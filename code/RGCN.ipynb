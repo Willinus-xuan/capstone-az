{
 "cells": [
  {
   "cell_type": "code",
   "execution_count": null,
   "id": "cc8e1fb7-e946-4a6a-953b-5e3e4d6d61bb",
   "metadata": {},
   "outputs": [],
   "source": [
    "!pip install pykeen -U\n",
    "# restart kernel\n",
    "from IPython.core.display import HTML\n",
    "HTML(\"<script>Jupyter.notebook.kernel.restart()</script>\")"
   ]
  },
  {
   "cell_type": "code",
   "execution_count": null,
   "id": "0bc6e396-20c9-486d-b939-04a195ccaa8c",
   "metadata": {},
   "outputs": [],
   "source": [
    "\"\"\"Embed patients with the biomedical entities (genes and metabolites) using Knowledge graph embedding.\"\"\"\n",
    "import os\n",
    "from typing import Tuple, Optional, Dict\n",
    "\n",
    "import numpy as np\n",
    "import pandas as pd\n",
    "from pykeen.hpo.hpo import hpo_pipeline\n",
    "from pykeen.models.base import Model\n",
    "from pykeen.pipeline import pipeline_from_path\n",
    "from pykeen.triples import TriplesFactory"
   ]
  },
  {
   "cell_type": "code",
   "execution_count": null,
   "id": "d8508af5-9888-439a-b437-2a91288bb596",
   "metadata": {},
   "outputs": [],
   "source": [
    "def _weighted_splitter(\n",
    "        edgelist: pd.DataFrame,\n",
    "        train_size: Optional[float] = 0.8,\n",
    "        validation_size: Optional[float] = 0.1\n",
    ") -> Tuple[pd.DataFrame, ...]:\n",
    "    \"\"\"Split the given edgelist into training, validation and testing sets on the basis of the ratio of relations.\n",
    "\n",
    "    :param edgelist: Edgelist in the form of (Source, Relation, Target)\n",
    "    :param train_size: Size of the training data\n",
    "    :param validation_size: Size of the training data\n",
    "    :return: Tuple containing the train, validation & test splits\n",
    "    \"\"\"\n",
    "    # Validation size is the size of the percentage of the remaining data (i.e. If required validation size is 10% of\n",
    "    # the original data & training size is 80% then the new validation size is 50% of the data without the training\n",
    "    # data. The similar calculation is done for training size, hence it is always 1\n",
    "    validation_size = validation_size / (1 - train_size)\n",
    "    test_size = 1\n",
    "\n",
    "    # Get the unique relations in the network\n",
    "    unique_relations = sorted(edgelist['relation'].unique())\n",
    "\n",
    "    data = edgelist.drop_duplicates().copy()\n",
    "\n",
    "    split = []\n",
    "    # Split the data to get training, validation and test samples\n",
    "    for frac_size in [train_size, validation_size, test_size]:\n",
    "        frames = []\n",
    "        # Random sampling of the data for every type of relation\n",
    "        for relation in unique_relations:\n",
    "            temp = data[data['relation'] == relation].sample(frac=frac_size)\n",
    "\n",
    "            data = data[~data.index.isin(temp.index)]\n",
    "\n",
    "            frames.append(temp)\n",
    "        # Join all the different relations in one dataframe\n",
    "        split.append(pd.concat(frames, ignore_index=True, sort=False))\n",
    "\n",
    "    return tuple(split)"
   ]
  },
  {
   "cell_type": "code",
   "execution_count": null,
   "id": "f40efb53-c0ee-4786-84f2-165e35cd47d8",
   "metadata": {},
   "outputs": [],
   "source": [
    "kg = pd.read_csv('../output/subgraph-generation.csv',sep='\\t')"
   ]
  },
  {
   "cell_type": "code",
   "execution_count": null,
   "id": "836975ce-6d0f-480a-bb52-4d9fc9d455ba",
   "metadata": {},
   "outputs": [],
   "source": [
    "edgelist = kg.drop(columns='label')\n",
    "edgelist = edgelist[['source','relation','target']]\n",
    "edgelist.columns = ['head', 'relation', 'tail']\n",
    "edgelist.head()"
   ]
  },
  {
   "cell_type": "code",
   "execution_count": null,
   "id": "037e4c18-7378-4cdc-b935-99dff2a80afa",
   "metadata": {},
   "outputs": [],
   "source": [
    "def run_optimization(dataset: Tuple[TriplesFactory, TriplesFactory, TriplesFactory], model_config: Dict, out_dir: str):\n",
    "    \"\"\"Run HPO.\"\"\"\n",
    "    training_factory, testing_factory, validation_factory = dataset\n",
    "\n",
    "    # Define HPO pipeline\n",
    "    hpo_results = hpo_pipeline(\n",
    "        dataset=None,\n",
    "        training=training_factory,\n",
    "        testing=testing_factory,\n",
    "        validation=validation_factory,\n",
    "        model=model_config[\"model\"],\n",
    "        model_kwargs=model_config[\"model_kwargs\"],\n",
    "        # model_kwargs_ranges=model_config[\"model_kwargs_ranges\"],\n",
    "        loss=model_config[\"loss_function\"],\n",
    "        # loss_kwargs=model_config[\"loss_kwargs\"],\n",
    "        # loss_kwargs_ranges=model_config[\"loss_kwargs_ranges\"],\n",
    "        regularizer=model_config[\"regularizer\"],\n",
    "        optimizer=model_config[\"optimizer\"],\n",
    "        optimizer_kwargs=model_config[\"optimizer_kwargs\"],\n",
    "        # optimizer_kwargs_ranges=model_config[\"optimizer_kwargs_ranges\"],\n",
    "        training_loop=model_config[\"training_loop\"],\n",
    "        training_kwargs=model_config[\"training_kwargs\"],\n",
    "        # training_kwargs_ranges=model_config[\"training_kwargs_ranges\"],\n",
    "        negative_sampler=model_config[\"negative_sampler\"],\n",
    "        negative_sampler_kwargs=model_config[\"negative_sampler_kwargs\"],\n",
    "        stopper=model_config[\"stopper\"],\n",
    "        stopper_kwargs=model_config[\"stopper_kwargs\"],\n",
    "        evaluator=model_config[\"evaluator\"],\n",
    "        evaluator_kwargs=model_config[\"evaluator_kwargs\"],\n",
    "        evaluation_kwargs=model_config[\"evaluation_kwargs\"],\n",
    "        n_trials=model_config[\"n_trials\"],\n",
    "        timeout=model_config[\"timeout\"],\n",
    "        metric=model_config[\"metric\"],\n",
    "        direction=model_config[\"direction\"],\n",
    "        sampler=model_config[\"sampler\"],\n",
    "        # pruner=model_config[\"pruner\"],\n",
    "    )\n",
    "\n",
    "    optimization_dir = os.path.join(out_dir, 'pykeen_results_optim')\n",
    "    if not os.path.isdir(optimization_dir):\n",
    "        os.makedirs(optimization_dir)\n",
    "\n",
    "    hpo_results.save_to_directory(optimization_dir)\n",
    "\n",
    "    return None\n",
    "\n"
   ]
  },
  {
   "cell_type": "code",
   "execution_count": null,
   "id": "ea12fa33-8d9f-47f3-9d6f-f9018e217eb2",
   "metadata": {},
   "outputs": [],
   "source": [
    "out = '../output/RGCN'\n",
    "train, validation, test = _weighted_splitter(\n",
    "        edgelist=edgelist,\n",
    "        train_size=0.8,\n",
    "        validation_size=0.1\n",
    "    )\n",
    "train.to_csv(f'{out}/train.edgelist', sep='\\t', index=False, header=False)\n",
    "validation.to_csv(f'{out}/validation.edgelist', sep='\\t', index=False, header=False)\n",
    "test.to_csv(f'{out}/test.edgelist', sep='\\t', index=False, header=False)"
   ]
  },
  {
   "cell_type": "code",
   "execution_count": null,
   "id": "21bf17cb-ffd2-40f7-96b4-9d5645265e1b",
   "metadata": {},
   "outputs": [],
   "source": [
    "out = '../output/RGCN'\n",
    "create_inverse_triples = False\n",
    "training_factory = TriplesFactory.from_path(\n",
    "        path=f'{out}/train.edgelist',\n",
    "        create_inverse_triples=create_inverse_triples,\n",
    "    )\n",
    "validation_factory = TriplesFactory.from_path(\n",
    "    path=f'{out}/validation.edgelist',\n",
    "    create_inverse_triples=create_inverse_triples,\n",
    ")\n",
    "testing_factory = TriplesFactory.from_path(\n",
    "    path=f'{out}/test.edgelist',\n",
    "    create_inverse_triples=create_inverse_triples,\n",
    ")"
   ]
  },
  {
   "cell_type": "code",
   "execution_count": null,
   "id": "fd17f0dd-4c03-4928-95de-31c988aa0750",
   "metadata": {},
   "outputs": [],
   "source": [
    "import multiprocessing\n",
    "\n",
    "cores = multiprocessing.cpu_count() # Count the number of cores in a computer\n",
    "print('the number of cpu cores in this colab')"
   ]
  },
  {
   "cell_type": "code",
   "execution_count": null,
   "id": "0088fbe0-e63b-4ea9-bd93-9fea878dea65",
   "metadata": {},
   "outputs": [],
   "source": [
    "training_factory"
   ]
  },
  {
   "cell_type": "code",
   "execution_count": null,
   "id": "fd7cd4d8-da09-4c6f-a6df-0cf200a47309",
   "metadata": {},
   "outputs": [],
   "source": [
    "from pykeen.pipeline import pipeline\n",
    "result = pipeline(\n",
    "    model='RGCN',\n",
    "    training=training_factory,\n",
    "    testing=testing_factory,\n",
    "    validation=validation_factory,\n",
    "    # device=\"gpu\",\n",
    "    loss='CrossEntropyLoss', # node classification\n",
    "    model_kwargs= dict(\n",
    "        decomposition='bases',\n",
    "        decomposition_kwargs=dict(\n",
    "        num_bases=3,\n",
    "        ),\n",
    "        embedding_dim=128,\n",
    "        interaction='DistMult',\n",
    "        num_layers=2,\n",
    "     ),\n",
    "     training_kwargs=dict(\n",
    "         num_epochs=75,\n",
    "         sampler='schlichtkrull',\n",
    "         batch_size=4096, # larger, the quicker, cost increases as O(n^2), time decreases as O(n)\n",
    "         num_workers=8,\n",
    "     ),\n",
    "     training_loop=\"slcwa\",\n",
    "    #  regularizer = \"None\",\n",
    "     optimizer=\"Adam\",\n",
    "     optimizer_kwargs=dict(\n",
    "         lr=0.005,\n",
    "     ),\n",
    "     negative_sampler=\"basic\",\n",
    "     evaluator='RankBasedEvaluator',\n",
    "     evaluator_kwargs=dict(\n",
    "         filtered=True,\n",
    "     ),\n",
    "     evaluation_kwargs=dict(batch_size=1024),  # Batch size for evaluation\n",
    "     stopper='early',\n",
    "     stopper_kwargs=dict(frequency=25,patience=4,relative_delta=0.002),\n",
    "     use_tqdm=True,\n",
    "     random_seed=42,\n",
    ")"
   ]
  },
  {
   "cell_type": "code",
   "execution_count": null,
   "id": "995c79f7-7100-4c56-9b76-a5c7cac90967",
   "metadata": {},
   "outputs": [],
   "source": [
    "result.save_to_directory('../output/RGCN/')"
   ]
  },
  {
   "cell_type": "code",
   "execution_count": null,
   "id": "1f7765f6-f418-4801-9c6d-37e07464fd9b",
   "metadata": {},
   "outputs": [],
   "source": [
    "result.plot_losses()"
   ]
  },
  {
   "cell_type": "code",
   "execution_count": null,
   "id": "6d8a08b4-6155-4787-99e0-feb821bd5738",
   "metadata": {},
   "outputs": [],
   "source": [
    "result.plot_er()"
   ]
  },
  {
   "cell_type": "code",
   "execution_count": null,
   "id": "c542750e-78c3-4666-9669-6afefef1fd41",
   "metadata": {},
   "outputs": [],
   "source": [
    "result.plot() # plot the visualization graph."
   ]
  },
  {
   "cell_type": "code",
   "execution_count": null,
   "id": "393cd244-3fdb-4099-8291-e144b6a4b7d6",
   "metadata": {},
   "outputs": [],
   "source": [
    "#import a trained pkl\n",
    "import torch\n",
    "my_pykeen_model = torch.load('../output/RGCN/trained_model.pkl')"
   ]
  },
  {
   "cell_type": "code",
   "execution_count": null,
   "id": "cf762de3-1008-4032-a682-922dd673e8b1",
   "metadata": {},
   "outputs": [],
   "source": [
    "design = pd.read_csv('../output/design.csv',sep='\\t')\n",
    "design_norm_df = design.astype(str, copy=True)\n",
    "unique_nodes = kg[~kg['label'].isna()].drop_duplicates('source')\n",
    "label_mapping = {patient: label for patient, label in zip(unique_nodes['source'], unique_nodes['label'])}"
   ]
  },
  {
   "cell_type": "code",
   "execution_count": null,
   "id": "f471dc5f-06f8-4fab-9e51-21700a47395e",
   "metadata": {},
   "outputs": [],
   "source": [
    "embedding_values = my_pykeen_model.entity_representations[0].entity_embeddings._embeddings.weight.detach().cpu().numpy()\n",
    "# Create columns as component names\n",
    "embedding_columns = [f'Component_{i}' for i in range(1, embedding_values.shape[1] + 1)]\n",
    "\n",
    "# Get the nodes of the training triples as index\n",
    "# node_list = list(best_model.triples_factory.entity_to_id.keys())\n",
    "node_list = list(training_factory.entity_to_id.keys())\n",
    "# embedding_index = sorted(node_list, key=lambda x: best_model.triples_factory.entity_to_id[x])\n",
    "embedding_index = sorted(node_list, key=lambda x: training_factory.entity_to_id[x])\n",
    "embedding = pd.DataFrame(data=embedding_values, columns=embedding_columns, index=embedding_index)\n",
    "\n",
    "return_patients = True\n",
    "if return_patients:\n",
    "    # TODO: Use clustering before classification to see if embeddings are already good enough\n",
    "    embedding = embedding[embedding.index.isin(design_norm_df['geo_accession'])]\n",
    "\n",
    "    for index in embedding.index:\n",
    "        embedding.at[index, 'label'] = label_mapping[index]"
   ]
  },
  {
   "cell_type": "code",
   "execution_count": null,
   "id": "5a045c5d-5182-45b8-8a84-33df6a794b4a",
   "metadata": {},
   "outputs": [],
   "source": [
    "embedding.to_csv('./output/RGCN/embeddings_result.csv',sep='\\t')"
   ]
  }
 ],
 "metadata": {
  "availableInstances": [
   {
    "_defaultOrder": 0,
    "_isFastLaunch": true,
    "category": "General purpose",
    "gpuNum": 0,
    "hideHardwareSpecs": false,
    "memoryGiB": 4,
    "name": "ml.t3.medium",
    "vcpuNum": 2
   },
   {
    "_defaultOrder": 1,
    "_isFastLaunch": false,
    "category": "General purpose",
    "gpuNum": 0,
    "hideHardwareSpecs": false,
    "memoryGiB": 8,
    "name": "ml.t3.large",
    "vcpuNum": 2
   },
   {
    "_defaultOrder": 2,
    "_isFastLaunch": false,
    "category": "General purpose",
    "gpuNum": 0,
    "hideHardwareSpecs": false,
    "memoryGiB": 16,
    "name": "ml.t3.xlarge",
    "vcpuNum": 4
   },
   {
    "_defaultOrder": 3,
    "_isFastLaunch": false,
    "category": "General purpose",
    "gpuNum": 0,
    "hideHardwareSpecs": false,
    "memoryGiB": 32,
    "name": "ml.t3.2xlarge",
    "vcpuNum": 8
   },
   {
    "_defaultOrder": 4,
    "_isFastLaunch": true,
    "category": "General purpose",
    "gpuNum": 0,
    "hideHardwareSpecs": false,
    "memoryGiB": 8,
    "name": "ml.m5.large",
    "vcpuNum": 2
   },
   {
    "_defaultOrder": 5,
    "_isFastLaunch": false,
    "category": "General purpose",
    "gpuNum": 0,
    "hideHardwareSpecs": false,
    "memoryGiB": 16,
    "name": "ml.m5.xlarge",
    "vcpuNum": 4
   },
   {
    "_defaultOrder": 6,
    "_isFastLaunch": false,
    "category": "General purpose",
    "gpuNum": 0,
    "hideHardwareSpecs": false,
    "memoryGiB": 32,
    "name": "ml.m5.2xlarge",
    "vcpuNum": 8
   },
   {
    "_defaultOrder": 7,
    "_isFastLaunch": false,
    "category": "General purpose",
    "gpuNum": 0,
    "hideHardwareSpecs": false,
    "memoryGiB": 64,
    "name": "ml.m5.4xlarge",
    "vcpuNum": 16
   },
   {
    "_defaultOrder": 8,
    "_isFastLaunch": false,
    "category": "General purpose",
    "gpuNum": 0,
    "hideHardwareSpecs": false,
    "memoryGiB": 128,
    "name": "ml.m5.8xlarge",
    "vcpuNum": 32
   },
   {
    "_defaultOrder": 9,
    "_isFastLaunch": false,
    "category": "General purpose",
    "gpuNum": 0,
    "hideHardwareSpecs": false,
    "memoryGiB": 192,
    "name": "ml.m5.12xlarge",
    "vcpuNum": 48
   },
   {
    "_defaultOrder": 10,
    "_isFastLaunch": false,
    "category": "General purpose",
    "gpuNum": 0,
    "hideHardwareSpecs": false,
    "memoryGiB": 256,
    "name": "ml.m5.16xlarge",
    "vcpuNum": 64
   },
   {
    "_defaultOrder": 11,
    "_isFastLaunch": false,
    "category": "General purpose",
    "gpuNum": 0,
    "hideHardwareSpecs": false,
    "memoryGiB": 384,
    "name": "ml.m5.24xlarge",
    "vcpuNum": 96
   },
   {
    "_defaultOrder": 12,
    "_isFastLaunch": false,
    "category": "General purpose",
    "gpuNum": 0,
    "hideHardwareSpecs": false,
    "memoryGiB": 8,
    "name": "ml.m5d.large",
    "vcpuNum": 2
   },
   {
    "_defaultOrder": 13,
    "_isFastLaunch": false,
    "category": "General purpose",
    "gpuNum": 0,
    "hideHardwareSpecs": false,
    "memoryGiB": 16,
    "name": "ml.m5d.xlarge",
    "vcpuNum": 4
   },
   {
    "_defaultOrder": 14,
    "_isFastLaunch": false,
    "category": "General purpose",
    "gpuNum": 0,
    "hideHardwareSpecs": false,
    "memoryGiB": 32,
    "name": "ml.m5d.2xlarge",
    "vcpuNum": 8
   },
   {
    "_defaultOrder": 15,
    "_isFastLaunch": false,
    "category": "General purpose",
    "gpuNum": 0,
    "hideHardwareSpecs": false,
    "memoryGiB": 64,
    "name": "ml.m5d.4xlarge",
    "vcpuNum": 16
   },
   {
    "_defaultOrder": 16,
    "_isFastLaunch": false,
    "category": "General purpose",
    "gpuNum": 0,
    "hideHardwareSpecs": false,
    "memoryGiB": 128,
    "name": "ml.m5d.8xlarge",
    "vcpuNum": 32
   },
   {
    "_defaultOrder": 17,
    "_isFastLaunch": false,
    "category": "General purpose",
    "gpuNum": 0,
    "hideHardwareSpecs": false,
    "memoryGiB": 192,
    "name": "ml.m5d.12xlarge",
    "vcpuNum": 48
   },
   {
    "_defaultOrder": 18,
    "_isFastLaunch": false,
    "category": "General purpose",
    "gpuNum": 0,
    "hideHardwareSpecs": false,
    "memoryGiB": 256,
    "name": "ml.m5d.16xlarge",
    "vcpuNum": 64
   },
   {
    "_defaultOrder": 19,
    "_isFastLaunch": false,
    "category": "General purpose",
    "gpuNum": 0,
    "hideHardwareSpecs": false,
    "memoryGiB": 384,
    "name": "ml.m5d.24xlarge",
    "vcpuNum": 96
   },
   {
    "_defaultOrder": 20,
    "_isFastLaunch": false,
    "category": "General purpose",
    "gpuNum": 0,
    "hideHardwareSpecs": true,
    "memoryGiB": 0,
    "name": "ml.geospatial.interactive",
    "supportedImageNames": [
     "sagemaker-geospatial-v1-0"
    ],
    "vcpuNum": 0
   },
   {
    "_defaultOrder": 21,
    "_isFastLaunch": true,
    "category": "Compute optimized",
    "gpuNum": 0,
    "hideHardwareSpecs": false,
    "memoryGiB": 4,
    "name": "ml.c5.large",
    "vcpuNum": 2
   },
   {
    "_defaultOrder": 22,
    "_isFastLaunch": false,
    "category": "Compute optimized",
    "gpuNum": 0,
    "hideHardwareSpecs": false,
    "memoryGiB": 8,
    "name": "ml.c5.xlarge",
    "vcpuNum": 4
   },
   {
    "_defaultOrder": 23,
    "_isFastLaunch": false,
    "category": "Compute optimized",
    "gpuNum": 0,
    "hideHardwareSpecs": false,
    "memoryGiB": 16,
    "name": "ml.c5.2xlarge",
    "vcpuNum": 8
   },
   {
    "_defaultOrder": 24,
    "_isFastLaunch": false,
    "category": "Compute optimized",
    "gpuNum": 0,
    "hideHardwareSpecs": false,
    "memoryGiB": 32,
    "name": "ml.c5.4xlarge",
    "vcpuNum": 16
   },
   {
    "_defaultOrder": 25,
    "_isFastLaunch": false,
    "category": "Compute optimized",
    "gpuNum": 0,
    "hideHardwareSpecs": false,
    "memoryGiB": 72,
    "name": "ml.c5.9xlarge",
    "vcpuNum": 36
   },
   {
    "_defaultOrder": 26,
    "_isFastLaunch": false,
    "category": "Compute optimized",
    "gpuNum": 0,
    "hideHardwareSpecs": false,
    "memoryGiB": 96,
    "name": "ml.c5.12xlarge",
    "vcpuNum": 48
   },
   {
    "_defaultOrder": 27,
    "_isFastLaunch": false,
    "category": "Compute optimized",
    "gpuNum": 0,
    "hideHardwareSpecs": false,
    "memoryGiB": 144,
    "name": "ml.c5.18xlarge",
    "vcpuNum": 72
   },
   {
    "_defaultOrder": 28,
    "_isFastLaunch": false,
    "category": "Compute optimized",
    "gpuNum": 0,
    "hideHardwareSpecs": false,
    "memoryGiB": 192,
    "name": "ml.c5.24xlarge",
    "vcpuNum": 96
   },
   {
    "_defaultOrder": 29,
    "_isFastLaunch": true,
    "category": "Accelerated computing",
    "gpuNum": 1,
    "hideHardwareSpecs": false,
    "memoryGiB": 16,
    "name": "ml.g4dn.xlarge",
    "vcpuNum": 4
   },
   {
    "_defaultOrder": 30,
    "_isFastLaunch": false,
    "category": "Accelerated computing",
    "gpuNum": 1,
    "hideHardwareSpecs": false,
    "memoryGiB": 32,
    "name": "ml.g4dn.2xlarge",
    "vcpuNum": 8
   },
   {
    "_defaultOrder": 31,
    "_isFastLaunch": false,
    "category": "Accelerated computing",
    "gpuNum": 1,
    "hideHardwareSpecs": false,
    "memoryGiB": 64,
    "name": "ml.g4dn.4xlarge",
    "vcpuNum": 16
   },
   {
    "_defaultOrder": 32,
    "_isFastLaunch": false,
    "category": "Accelerated computing",
    "gpuNum": 1,
    "hideHardwareSpecs": false,
    "memoryGiB": 128,
    "name": "ml.g4dn.8xlarge",
    "vcpuNum": 32
   },
   {
    "_defaultOrder": 33,
    "_isFastLaunch": false,
    "category": "Accelerated computing",
    "gpuNum": 4,
    "hideHardwareSpecs": false,
    "memoryGiB": 192,
    "name": "ml.g4dn.12xlarge",
    "vcpuNum": 48
   },
   {
    "_defaultOrder": 34,
    "_isFastLaunch": false,
    "category": "Accelerated computing",
    "gpuNum": 1,
    "hideHardwareSpecs": false,
    "memoryGiB": 256,
    "name": "ml.g4dn.16xlarge",
    "vcpuNum": 64
   },
   {
    "_defaultOrder": 35,
    "_isFastLaunch": false,
    "category": "Accelerated computing",
    "gpuNum": 1,
    "hideHardwareSpecs": false,
    "memoryGiB": 61,
    "name": "ml.p3.2xlarge",
    "vcpuNum": 8
   },
   {
    "_defaultOrder": 36,
    "_isFastLaunch": false,
    "category": "Accelerated computing",
    "gpuNum": 4,
    "hideHardwareSpecs": false,
    "memoryGiB": 244,
    "name": "ml.p3.8xlarge",
    "vcpuNum": 32
   },
   {
    "_defaultOrder": 37,
    "_isFastLaunch": false,
    "category": "Accelerated computing",
    "gpuNum": 8,
    "hideHardwareSpecs": false,
    "memoryGiB": 488,
    "name": "ml.p3.16xlarge",
    "vcpuNum": 64
   },
   {
    "_defaultOrder": 38,
    "_isFastLaunch": false,
    "category": "Accelerated computing",
    "gpuNum": 8,
    "hideHardwareSpecs": false,
    "memoryGiB": 768,
    "name": "ml.p3dn.24xlarge",
    "vcpuNum": 96
   },
   {
    "_defaultOrder": 39,
    "_isFastLaunch": false,
    "category": "Memory Optimized",
    "gpuNum": 0,
    "hideHardwareSpecs": false,
    "memoryGiB": 16,
    "name": "ml.r5.large",
    "vcpuNum": 2
   },
   {
    "_defaultOrder": 40,
    "_isFastLaunch": false,
    "category": "Memory Optimized",
    "gpuNum": 0,
    "hideHardwareSpecs": false,
    "memoryGiB": 32,
    "name": "ml.r5.xlarge",
    "vcpuNum": 4
   },
   {
    "_defaultOrder": 41,
    "_isFastLaunch": false,
    "category": "Memory Optimized",
    "gpuNum": 0,
    "hideHardwareSpecs": false,
    "memoryGiB": 64,
    "name": "ml.r5.2xlarge",
    "vcpuNum": 8
   },
   {
    "_defaultOrder": 42,
    "_isFastLaunch": false,
    "category": "Memory Optimized",
    "gpuNum": 0,
    "hideHardwareSpecs": false,
    "memoryGiB": 128,
    "name": "ml.r5.4xlarge",
    "vcpuNum": 16
   },
   {
    "_defaultOrder": 43,
    "_isFastLaunch": false,
    "category": "Memory Optimized",
    "gpuNum": 0,
    "hideHardwareSpecs": false,
    "memoryGiB": 256,
    "name": "ml.r5.8xlarge",
    "vcpuNum": 32
   },
   {
    "_defaultOrder": 44,
    "_isFastLaunch": false,
    "category": "Memory Optimized",
    "gpuNum": 0,
    "hideHardwareSpecs": false,
    "memoryGiB": 384,
    "name": "ml.r5.12xlarge",
    "vcpuNum": 48
   },
   {
    "_defaultOrder": 45,
    "_isFastLaunch": false,
    "category": "Memory Optimized",
    "gpuNum": 0,
    "hideHardwareSpecs": false,
    "memoryGiB": 512,
    "name": "ml.r5.16xlarge",
    "vcpuNum": 64
   },
   {
    "_defaultOrder": 46,
    "_isFastLaunch": false,
    "category": "Memory Optimized",
    "gpuNum": 0,
    "hideHardwareSpecs": false,
    "memoryGiB": 768,
    "name": "ml.r5.24xlarge",
    "vcpuNum": 96
   },
   {
    "_defaultOrder": 47,
    "_isFastLaunch": false,
    "category": "Accelerated computing",
    "gpuNum": 1,
    "hideHardwareSpecs": false,
    "memoryGiB": 16,
    "name": "ml.g5.xlarge",
    "vcpuNum": 4
   },
   {
    "_defaultOrder": 48,
    "_isFastLaunch": false,
    "category": "Accelerated computing",
    "gpuNum": 1,
    "hideHardwareSpecs": false,
    "memoryGiB": 32,
    "name": "ml.g5.2xlarge",
    "vcpuNum": 8
   },
   {
    "_defaultOrder": 49,
    "_isFastLaunch": false,
    "category": "Accelerated computing",
    "gpuNum": 1,
    "hideHardwareSpecs": false,
    "memoryGiB": 64,
    "name": "ml.g5.4xlarge",
    "vcpuNum": 16
   },
   {
    "_defaultOrder": 50,
    "_isFastLaunch": false,
    "category": "Accelerated computing",
    "gpuNum": 1,
    "hideHardwareSpecs": false,
    "memoryGiB": 128,
    "name": "ml.g5.8xlarge",
    "vcpuNum": 32
   },
   {
    "_defaultOrder": 51,
    "_isFastLaunch": false,
    "category": "Accelerated computing",
    "gpuNum": 1,
    "hideHardwareSpecs": false,
    "memoryGiB": 256,
    "name": "ml.g5.16xlarge",
    "vcpuNum": 64
   },
   {
    "_defaultOrder": 52,
    "_isFastLaunch": false,
    "category": "Accelerated computing",
    "gpuNum": 4,
    "hideHardwareSpecs": false,
    "memoryGiB": 192,
    "name": "ml.g5.12xlarge",
    "vcpuNum": 48
   },
   {
    "_defaultOrder": 53,
    "_isFastLaunch": false,
    "category": "Accelerated computing",
    "gpuNum": 4,
    "hideHardwareSpecs": false,
    "memoryGiB": 384,
    "name": "ml.g5.24xlarge",
    "vcpuNum": 96
   },
   {
    "_defaultOrder": 54,
    "_isFastLaunch": false,
    "category": "Accelerated computing",
    "gpuNum": 8,
    "hideHardwareSpecs": false,
    "memoryGiB": 768,
    "name": "ml.g5.48xlarge",
    "vcpuNum": 192
   },
   {
    "_defaultOrder": 55,
    "_isFastLaunch": false,
    "category": "Accelerated computing",
    "gpuNum": 8,
    "hideHardwareSpecs": false,
    "memoryGiB": 1152,
    "name": "ml.p4d.24xlarge",
    "vcpuNum": 96
   },
   {
    "_defaultOrder": 56,
    "_isFastLaunch": false,
    "category": "Accelerated computing",
    "gpuNum": 8,
    "hideHardwareSpecs": false,
    "memoryGiB": 1152,
    "name": "ml.p4de.24xlarge",
    "vcpuNum": 96
   }
  ],
  "instance_type": "ml.g4dn.2xlarge",
  "kernelspec": {
   "display_name": "Python 3 (Data Science 3.0)",
   "language": "python",
   "name": "python3__SAGEMAKER_INTERNAL__arn:aws:sagemaker:us-east-1:081325390199:image/sagemaker-data-science-310-v1"
  },
  "language_info": {
   "codemirror_mode": {
    "name": "ipython",
    "version": 3
   },
   "file_extension": ".py",
   "mimetype": "text/x-python",
   "name": "python",
   "nbconvert_exporter": "python",
   "pygments_lexer": "ipython3",
   "version": "3.10.6"
  }
 },
 "nbformat": 4,
 "nbformat_minor": 5
}
