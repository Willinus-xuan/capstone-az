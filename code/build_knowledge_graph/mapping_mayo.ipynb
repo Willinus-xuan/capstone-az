{
 "cells": [
  {
   "cell_type": "code",
   "execution_count": 8,
   "metadata": {
    "ExecuteTime": {
     "end_time": "2021-05-15T04:57:42.470405Z",
     "start_time": "2021-05-15T04:57:42.420933Z"
    }
   },
   "outputs": [
    {
     "name": "stdout",
     "output_type": "stream",
     "text": [
      "The autoreload extension is already loaded. To reload it, use:\n",
      "  %reload_ext autoreload\n"
     ]
    }
   ],
   "source": [
    "from tqdm.notebook import tqdm\n",
    "import numpy as np\n",
    "import pandas as pd\n",
    "import sys\n",
    "sys.path.append('../')\n",
    "from utils import *\n",
    "from Levenshtein import ratio, distance #https://rawgit.com/ztane/python-Levenshtein/master/docs/Levenshtein.html\n",
    "from sklearn.metrics.pairwise import cosine_similarity\n",
    "\n",
    "from IPython.display import display\n",
    "import matplotlib\n",
    "import matplotlib.pyplot as plt\n",
    "import seaborn as sns\n",
    "%matplotlib inline\n",
    "%config InlineBackend.figure_format = 'retina'\n",
    "\n",
    "def set_style():\n",
    "    plt.style.use(['seaborn-white', 'seaborn-paper'])\n",
    "    matplotlib.rc(\"font\", family=\"Arial\")\n",
    "set_style()\n",
    "\n",
    "%load_ext autoreload\n",
    "%autoreload 2"
   ]
  },
  {
   "cell_type": "code",
   "execution_count": 9,
   "metadata": {
    "ExecuteTime": {
     "end_time": "2021-05-15T04:58:01.894507Z",
     "start_time": "2021-05-15T04:57:42.778866Z"
    }
   },
   "outputs": [],
   "source": [
    "kg = read_kg('../knowledge_graph/kg_v6_raw.csv')\n",
    "nodes = get_nodes(kg)"
   ]
  },
  {
   "cell_type": "code",
   "execution_count": 10,
   "metadata": {
    "ExecuteTime": {
     "end_time": "2021-05-15T04:58:02.017073Z",
     "start_time": "2021-05-15T04:58:01.896676Z"
    }
   },
   "outputs": [],
   "source": [
    "dis = nodes.query('node_type == \"disease\"').drop_duplicates().reset_index().drop('index',axis=1)"
   ]
  },
  {
   "cell_type": "markdown",
   "metadata": {},
   "source": [
    "### UMLS "
   ]
  },
  {
   "cell_type": "code",
   "execution_count": 75,
   "metadata": {
    "ExecuteTime": {
     "end_time": "2021-05-11T13:48:27.775256Z",
     "start_time": "2021-05-11T13:48:26.956017Z"
    }
   },
   "outputs": [
    {
     "data": {
      "text/html": [
       "<div>\n",
       "<style scoped>\n",
       "    .dataframe tbody tr th:only-of-type {\n",
       "        vertical-align: middle;\n",
       "    }\n",
       "\n",
       "    .dataframe tbody tr th {\n",
       "        vertical-align: top;\n",
       "    }\n",
       "\n",
       "    .dataframe thead th {\n",
       "        text-align: right;\n",
       "    }\n",
       "</style>\n",
       "<table border=\"1\" class=\"dataframe\">\n",
       "  <thead>\n",
       "    <tr style=\"text-align: right;\">\n",
       "      <th></th>\n",
       "      <th>mondo_id</th>\n",
       "      <th>description</th>\n",
       "    </tr>\n",
       "  </thead>\n",
       "  <tbody>\n",
       "    <tr>\n",
       "      <th>0</th>\n",
       "      <td>1</td>\n",
       "      <td>A definite pathologic process with a character...</td>\n",
       "    </tr>\n",
       "    <tr>\n",
       "      <th>1</th>\n",
       "      <td>1</td>\n",
       "      <td>In medicine, a health problem with certain cha...</td>\n",
       "    </tr>\n",
       "    <tr>\n",
       "      <th>2</th>\n",
       "      <td>1</td>\n",
       "      <td>Any abnormal condition of the body or mind tha...</td>\n",
       "    </tr>\n",
       "    <tr>\n",
       "      <th>3</th>\n",
       "      <td>1</td>\n",
       "      <td>Any deviation from or interruption of the norm...</td>\n",
       "    </tr>\n",
       "    <tr>\n",
       "      <th>4</th>\n",
       "      <td>1</td>\n",
       "      <td>top term heading for all specific disorders an...</td>\n",
       "    </tr>\n",
       "  </tbody>\n",
       "</table>\n",
       "</div>"
      ],
      "text/plain": [
       "  mondo_id                                        description\n",
       "0        1  A definite pathologic process with a character...\n",
       "1        1  In medicine, a health problem with certain cha...\n",
       "2        1  Any abnormal condition of the body or mind tha...\n",
       "3        1  Any deviation from or interruption of the norm...\n",
       "4        1  top term heading for all specific disorders an..."
      ]
     },
     "metadata": {},
     "output_type": "display_data"
    }
   ],
   "source": [
    "mondo_xref = read_csv('../knowledge_graph/databases/mondo/mondo_references')\n",
    "umls_disease = read_csv('../data/umls_def_disease')\n",
    "umls_disease = pd.merge(mondo_xref, umls_disease, 'inner', left_on='ontology_id', right_on='CUI')\n",
    "umls_disease = umls_disease.get(['mondo_id', 'description'])\n",
    "umls_disorder = read_csv('../data/umls_def_disorder')\n",
    "umls_disorder = pd.merge(mondo_xref, umls_disorder, 'inner', left_on='ontology_id', right_on='CUI')\n",
    "umls_disorder = umls_disorder.get(['mondo_id', 'description'])\n",
    "umls_features = pd.concat([umls_disease,umls_disorder]).drop_duplicates().astype('str')\n",
    "display(umls_features.head())"
   ]
  },
  {
   "cell_type": "markdown",
   "metadata": {},
   "source": [
    "### Mayo"
   ]
  },
  {
   "cell_type": "code",
   "execution_count": 123,
   "metadata": {
    "ExecuteTime": {
     "end_time": "2021-05-15T14:11:49.335139Z",
     "start_time": "2021-05-15T14:11:49.022528Z"
    }
   },
   "outputs": [
    {
     "data": {
      "text/html": [
       "<div>\n",
       "<style scoped>\n",
       "    .dataframe tbody tr th:only-of-type {\n",
       "        vertical-align: middle;\n",
       "    }\n",
       "\n",
       "    .dataframe tbody tr th {\n",
       "        vertical-align: top;\n",
       "    }\n",
       "\n",
       "    .dataframe thead th {\n",
       "        text-align: right;\n",
       "    }\n",
       "</style>\n",
       "<table border=\"1\" class=\"dataframe\">\n",
       "  <thead>\n",
       "    <tr style=\"text-align: right;\">\n",
       "      <th></th>\n",
       "      <th>name</th>\n",
       "      <th>link</th>\n",
       "      <th>Symptoms</th>\n",
       "      <th>Causes</th>\n",
       "      <th>Risk factors</th>\n",
       "      <th>Complications</th>\n",
       "      <th>Prevention</th>\n",
       "      <th>mayo_name_lower</th>\n",
       "    </tr>\n",
       "  </thead>\n",
       "  <tbody>\n",
       "    <tr>\n",
       "      <th>0</th>\n",
       "      <td>Dandruff</td>\n",
       "      <td>https://www.mayoclinic.org/diseases-conditions/dandruff/symptoms-causes/syc-20353850</td>\n",
       "      <td>Dandruff signs and symptoms may include:\\nSkin flakes on your scalp, hair, eyebrows, beard or mustache, and shoulders\\nItchy scalp\\nScaly, crusty scalp in infants with cradle cap\\nThe signs and symptoms may be more severe if you're stressed, and they tend to flare in cold, dry seasons.\\nWhen to see a doctor\\nMost cases of dandruff don't require a doctor's care. See your primary care doctor or a doctor who specializes in skin conditions (dermatologist) if your condition doesn’t improve with regular use of over-the-counter dandruff shampoo.</td>\n",
       "      <td>Dandruff may have several causes, including:\\nIrritated, oily skin\\nNot shampooing enough\\nA yeastlike fungus (malassezia) that feeds on oils on the scalps of most adults\\nDry skin\\nSensitivity to hair care products (contact dermatitis)\\nOther skin conditions, such as psoriasis and eczema</td>\n",
       "      <td>Almost anyone can have dandruff, but certain factors can make you more susceptible:\\nAge. Dandruff usually begins in young adulthood and continues through middle age. That doesn't mean older adults don't get dandruff. For some people, the problem can be lifelong.\\nBeing male. Because more men have dandruff, some researchers think male hormones may play a role.\\nCertain illnesses. Parkinson's disease and other diseases that affect the nervous system also seem to increase risk of dandruff. So does having HIV or a weakened immune system.</td>\n",
       "      <td>None</td>\n",
       "      <td>None</td>\n",
       "      <td>dandruff</td>\n",
       "    </tr>\n",
       "  </tbody>\n",
       "</table>\n",
       "</div>"
      ],
      "text/plain": [
       "       name  \\\n",
       "0  Dandruff   \n",
       "\n",
       "                                                                                   link  \\\n",
       "0  https://www.mayoclinic.org/diseases-conditions/dandruff/symptoms-causes/syc-20353850   \n",
       "\n",
       "                                                                                                                                                                                                                                                                                                                                                                                                                                                                                                                                                           Symptoms  \\\n",
       "0  Dandruff signs and symptoms may include:\\nSkin flakes on your scalp, hair, eyebrows, beard or mustache, and shoulders\\nItchy scalp\\nScaly, crusty scalp in infants with cradle cap\\nThe signs and symptoms may be more severe if you're stressed, and they tend to flare in cold, dry seasons.\\nWhen to see a doctor\\nMost cases of dandruff don't require a doctor's care. See your primary care doctor or a doctor who specializes in skin conditions (dermatologist) if your condition doesn’t improve with regular use of over-the-counter dandruff shampoo.   \n",
       "\n",
       "                                                                                                                                                                                                                                                                                              Causes  \\\n",
       "0  Dandruff may have several causes, including:\\nIrritated, oily skin\\nNot shampooing enough\\nA yeastlike fungus (malassezia) that feeds on oils on the scalps of most adults\\nDry skin\\nSensitivity to hair care products (contact dermatitis)\\nOther skin conditions, such as psoriasis and eczema   \n",
       "\n",
       "                                                                                                                                                                                                                                                                                                                                                                                                                                                                                                                                                   Risk factors  \\\n",
       "0  Almost anyone can have dandruff, but certain factors can make you more susceptible:\\nAge. Dandruff usually begins in young adulthood and continues through middle age. That doesn't mean older adults don't get dandruff. For some people, the problem can be lifelong.\\nBeing male. Because more men have dandruff, some researchers think male hormones may play a role.\\nCertain illnesses. Parkinson's disease and other diseases that affect the nervous system also seem to increase risk of dandruff. So does having HIV or a weakened immune system.   \n",
       "\n",
       "  Complications Prevention mayo_name_lower  \n",
       "0          None       None        dandruff  "
      ]
     },
     "execution_count": 123,
     "metadata": {},
     "output_type": "execute_result"
    }
   ],
   "source": [
    "mayo_data = read_csv('../data/mayo')\n",
    "mayo_data.loc[:, 'mayo_name_lower'] = [x.lower() for x in mayo_data.get('name').values]\n",
    "mayo_data.head(1)"
   ]
  },
  {
   "cell_type": "code",
   "execution_count": 124,
   "metadata": {
    "ExecuteTime": {
     "end_time": "2021-05-15T14:11:51.501007Z",
     "start_time": "2021-05-15T14:11:51.429569Z"
    }
   },
   "outputs": [
    {
     "data": {
      "text/html": [
       "<div>\n",
       "<style scoped>\n",
       "    .dataframe tbody tr th:only-of-type {\n",
       "        vertical-align: middle;\n",
       "    }\n",
       "\n",
       "    .dataframe tbody tr th {\n",
       "        vertical-align: top;\n",
       "    }\n",
       "\n",
       "    .dataframe thead th {\n",
       "        text-align: right;\n",
       "    }\n",
       "</style>\n",
       "<table border=\"1\" class=\"dataframe\">\n",
       "  <thead>\n",
       "    <tr style=\"text-align: right;\">\n",
       "      <th></th>\n",
       "      <th>node_id</th>\n",
       "      <th>node_name</th>\n",
       "      <th>node_name_lower</th>\n",
       "    </tr>\n",
       "  </thead>\n",
       "  <tbody>\n",
       "    <tr>\n",
       "      <th>0</th>\n",
       "      <td>5345</td>\n",
       "      <td>hypospadias (disease)</td>\n",
       "      <td>hypospadias (disease)</td>\n",
       "    </tr>\n",
       "  </tbody>\n",
       "</table>\n",
       "</div>"
      ],
      "text/plain": [
       "  node_id              node_name        node_name_lower\n",
       "0    5345  hypospadias (disease)  hypospadias (disease)"
      ]
     },
     "execution_count": 124,
     "metadata": {},
     "output_type": "execute_result"
    }
   ],
   "source": [
    "mayo_map = dis.copy().get(['node_id','node_name'])\n",
    "mayo_map.loc[:, 'node_name_lower'] = [x.lower() for x in mayo_map.get('node_name').values]\n",
    "mayo_map.head(1)"
   ]
  },
  {
   "cell_type": "code",
   "execution_count": 13,
   "metadata": {
    "ExecuteTime": {
     "end_time": "2021-05-15T04:58:21.472446Z",
     "start_time": "2021-05-15T04:58:02.203091Z"
    }
   },
   "outputs": [],
   "source": [
    "mayo_names = mayo_data.get('mayo_name_lower').values\n",
    "node_names = mayo_map.get('node_name_lower').values\n",
    "\n",
    "exact, m_in_kg, kg_in_m = [], [], []\n",
    "\n",
    "for mn in mayo_names: \n",
    "    for nn in node_names: \n",
    "        if mn == nn: \n",
    "            exact.append((mn,nn))\n",
    "        elif nn.count(mn): # mayo fully in kg\n",
    "            m_in_kg.append((mn,nn))\n",
    "        elif mn.count(nn): # kg fully in mayo \n",
    "            if mn.count(', also known as '): \n",
    "                mn1, mn2 = mn.split(', also known as ')\n",
    "                if mn1 == nn or mn2 == nn: # exact match \n",
    "                    exact.append((mn,nn))\n",
    "                elif nn.count(mn1) or nn.count(mn2): # mayo fully in kg\n",
    "                    m_in_kg.append((mn,nn))\n",
    "                else: # kg fully in mayo \n",
    "                    kg_in_m.append((mn,nn))\n",
    "            else:    \n",
    "                kg_in_m.append((mn,nn))"
   ]
  },
  {
   "cell_type": "code",
   "execution_count": 14,
   "metadata": {
    "ExecuteTime": {
     "end_time": "2021-05-15T04:58:21.572696Z",
     "start_time": "2021-05-15T04:58:21.474466Z"
    }
   },
   "outputs": [],
   "source": [
    "exact = pd.DataFrame(exact, columns=['mayo_name_lower','node_name_lower']).drop_duplicates()\n",
    "encapsulated = pd.DataFrame(m_in_kg, columns=['mayo_name_lower','node_name_lower']).drop_duplicates()"
   ]
  },
  {
   "cell_type": "code",
   "execution_count": 15,
   "metadata": {
    "ExecuteTime": {
     "end_time": "2021-05-15T04:58:22.008377Z",
     "start_time": "2021-05-15T04:58:21.576035Z"
    }
   },
   "outputs": [
    {
     "data": {
      "text/plain": [
       "1208"
      ]
     },
     "execution_count": 15,
     "metadata": {},
     "output_type": "execute_result"
    }
   ],
   "source": [
    "found = pd.concat([exact, encapsulated], ignore_index=True).drop_duplicates()\n",
    "remaining = set(list(mayo_names)) - set(list(found.get(['mayo_name_lower']).drop_duplicates().values.reshape(-1)))\n",
    "kg_unmatched = set(list(node_names)) - set(list(found.get(['node_name_lower']).drop_duplicates().values.reshape(-1)))\n",
    "len(remaining)"
   ]
  },
  {
   "cell_type": "code",
   "execution_count": 16,
   "metadata": {
    "ExecuteTime": {
     "end_time": "2021-05-15T04:58:22.275736Z",
     "start_time": "2021-05-15T04:58:22.018244Z"
    }
   },
   "outputs": [
    {
     "data": {
      "text/plain": [
       "989"
      ]
     },
     "execution_count": 16,
     "metadata": {},
     "output_type": "execute_result"
    }
   ],
   "source": [
    "review = pd.DataFrame(kg_in_m, columns=['mayo_name_lower','node_name_lower']).drop_duplicates()\n",
    "\n",
    "#pd.set_option('display.max_rows', None)\n",
    "#pd.set_option('display.max_colwidth', None) \n",
    "#ignore = set(['lap','injury','noma','congenital','n syndrome', 'inherited', 'c syndrome', 'h syndrome'])\n",
    "#for _, x in review.query('node_name_lower not in @ignore').query('mayo_name_lower in @remaining and node_name_lower in @kg_unmatched').groupby('mayo_name_lower'): \n",
    "#    display(x)\n",
    "\n",
    "ok_idx = [58, 63, 146, 145, 152, 310, 447, 451, 454, 705, 707, 708, 168, 345, 355, 509, 513, 215, \n",
    "          224, 381, 526, 536, 535, 538, 541, 670, 671, 679, 790, 791, 793, 795, 873, 909, 949, 5, 14, 15, 20, \n",
    "          22, 27, 33, 35, 36, 40, 515, 516, 517, 519, 658, 659, \n",
    "          660, 662, 664, 775, 776, 765, 858, 621, 624, 628, 480, 752, 757, 907, 937, \n",
    "          943, 471, 475, 479, 597, 599, 601, 739, 842, 241, 243, 383, 335, 493, 496, 631,\n",
    "          635, 636, 638, 640, 397, 177, 180, 522, 321, 322, 464, 468, 716, 721, 722, 724, \n",
    "          727, 729, 827, 830, 834, 895, 959, 308, 438, 439, 441, 129, 133, 286, 424, 426, \n",
    "          427, 562, 564, 568, 690, 698, 700, 804, 884, 122, 283, 284, 557, 66, 107, 52]\n",
    "\n",
    "found = pd.concat([found, review.loc[ok_idx, :]], ignore_index=True)\n",
    "remaining = set(list(mayo_names)) - set(list(found.get(['mayo_name_lower']).drop_duplicates().values.reshape(-1)))\n",
    "\n",
    "#ignore = set(['lap','injury','noma','congenital','n syndrome','arteritis', 'arthritis',\n",
    "#              'inherited', 'c syndrome', 'h syndrome','cancer'])\n",
    "#for _, x in review.query('node_name_lower not in @ignore').query('mayo_name_lower in @remaining').groupby('mayo_name_lower'): \n",
    "#    display(x)\n",
    "\n",
    "also_ok = [55, 150, 580, 711, 713, 820, 821, 822, 170, 171, 351, 507, 874, 913,\n",
    "          926, 945, 946, 963, 666, 665, 778, 864, 645, 649, 650, 654, 656, 766, \n",
    "          768, 859, 860, 862, 620, 612, 614, 616, 617, 745, 851, 856, 899, 902, \n",
    "          942, 472, 605, 607, 740, 458, 549, 336, 340, 342, 254, 394, 368, 372, \n",
    "          373, 330, 327, 463, 465, 718, 730, 835, 893, 930, 302, 304, 139, 421, \n",
    "          428, 432, 430, 434, 563, 571, 693, 701, 801, 876, 808, 880, 881, 127, \n",
    "          277, 278, 409, 410, 420, 116, 29, 30, 31, 32]\n",
    "found = pd.concat([found, review.loc[also_ok, :]], ignore_index=True).drop_duplicates()\n",
    "remaining = set(list(mayo_names)) - set(list(found.get(['mayo_name_lower']).drop_duplicates().values.reshape(-1)))\n",
    "kg_unmatched = set(list(node_names)) - set(list(found.get(['node_name_lower']).drop_duplicates().values.reshape(-1)))\n",
    "len(remaining)"
   ]
  },
  {
   "cell_type": "code",
   "execution_count": 52,
   "metadata": {
    "ExecuteTime": {
     "end_time": "2021-05-14T09:13:58.251413Z",
     "start_time": "2021-05-14T09:13:58.175011Z"
    }
   },
   "outputs": [],
   "source": [
    "'''\n",
    "# get BERT embeddings\n",
    "\n",
    "from transformers import AutoTokenizer, AutoModel, pipeline\n",
    "from bert.biobert import BioBERT\n",
    "\n",
    "bert = BioBERT()\n",
    "\n",
    "def save_embeds(inputs, file): \n",
    "    embeds = []\n",
    "    for i in tqdm(range(len(inputs))):   \n",
    "        e = bert.get_features(inputs[i])\n",
    "        embeds.append(e)\n",
    "    np.save(file, np.concatenate(embeds))\n",
    "\n",
    "save_embeds(mayo_data.get('name').values, 'mayo_bert_embeds.npy')\n",
    "save_embeds(mayo_map.get('node_name').values, 'kg_bert_embeds.npy')\n",
    "\n",
    "\n",
    "# get cosine similarity between bert embeddings \n",
    "mayo_bert = np.load('mayo_bert_embeds.npy')\n",
    "kg_bert = np.load('kg_bert_embeds.npy')\n",
    "cos_sim = cosine_similarity(mayo_bert, kg_bert)\n",
    "\n",
    "K = 10\n",
    "matches = []\n",
    "for i, mn in enumerate(mayo_names): \n",
    "    if mn in remaining:\n",
    "        s = []\n",
    "        for j, nn in enumerate(node_names): \n",
    "            s.append((mn, nn, round(ratio(mn,nn), 2), distance(mn,nn), round(cos_sim[i][j],2)))\n",
    "        best = []\n",
    "        best.extend(sorted(s, key = lambda x: x[2], reverse=True)[:K])\n",
    "        best.extend(sorted(s, key = lambda x: x[3], reverse=False)[:K])\n",
    "        best.extend(sorted(s, key = lambda x: x[4], reverse=True)[:K])\n",
    "        best = list(set(best))\n",
    "        matches.extend(best)\n",
    "matches = pd.DataFrame(matches, columns=['mayo_name_lower','node_name_lower','edit_similarity_ratio', 'levenshtein_distance', 'bert_cosine_similarity'])\n",
    "matches.to_csv('matches.csv')\n",
    "'''\n",
    "matches = read_csv('matches')"
   ]
  },
  {
   "cell_type": "code",
   "execution_count": 108,
   "metadata": {
    "ExecuteTime": {
     "end_time": "2021-05-14T09:31:04.070781Z",
     "start_time": "2021-05-14T09:31:03.942041Z"
    }
   },
   "outputs": [
    {
     "data": {
      "text/plain": [
       "885"
      ]
     },
     "execution_count": 108,
     "metadata": {},
     "output_type": "execute_result"
    }
   ],
   "source": [
    "ok = []\n",
    "ok.extend(matches.query('bert_cosine_similarity > 0.98').index.values)\n",
    "found = pd.concat([found, matches.get(['mayo_name_lower', 'node_name_lower']).loc[ok, :]], ignore_index=True).drop_duplicates()\n",
    "remaining = set(list(mayo_names)) - set(list(found.get(['mayo_name_lower']).drop_duplicates().values.reshape(-1)))\n",
    "\n",
    "ok = list(matches.query('mayo_name_lower in @remaining')\\\n",
    ".query('bert_cosine_similarity<=0.98 and bert_cosine_similarity>0.95')\\\n",
    ".query('edit_similarity_ratio>0.88').index.values)\n",
    "found = pd.concat([found, matches.get(['mayo_name_lower', 'node_name_lower']).loc[ok, :]], ignore_index=True).drop_duplicates()\n",
    "remaining = set(list(mayo_names)) - set(list(found.get(['mayo_name_lower']).drop_duplicates().values.reshape(-1)))\n",
    "\n",
    "ok = [3566, 3911, 4976, 5195, 8612, 9059, 11226, 16646, 17790, 21330, 21338, 22313,\n",
    "      277, 1356, 1438, 7811, 7939, 9943, 11487, 11826, 12734, 21471, 4978, 7203, 9160, \n",
    "      9919, 10562, 13868, 14709, 16408, 22253, 576, 2419, 3700, 4539, 9104, 11218, 18025, \n",
    "      20407, 22398, 22655, 8041, 9782, 13257, 16653, 16655, 16656, 16658, 16659, 16665, \n",
    "      16670, 19757, 20887, 23195, 11711, 16335, 17532, 1190, 1301, 2936, 3130, 4647, 4839,\n",
    "      8314, 10100, 10382, 18228, 19794, 21189, 21734, 21937, 15024, 17689, 18106, 17040, \n",
    "      18827, 14786, 14362, 14208, 5032, 5024, ]\n",
    "found = pd.concat([found, matches.get(['mayo_name_lower', 'node_name_lower']).loc[ok, :]], ignore_index=True).drop_duplicates()\n",
    "remaining = set(list(mayo_names)) - set(list(found.get(['mayo_name_lower']).drop_duplicates().values.reshape(-1)))\n",
    "\n",
    "ok = []\n",
    "\n",
    "len(remaining)"
   ]
  },
  {
   "cell_type": "code",
   "execution_count": 163,
   "metadata": {
    "ExecuteTime": {
     "end_time": "2021-05-14T10:00:57.151523Z",
     "start_time": "2021-05-14T10:00:38.687869Z"
    }
   },
   "outputs": [],
   "source": [
    "mayo_bert = np.load('mayo_bert_embeds.npy')\n",
    "x = cosine_similarity(mayo_bert)\n",
    "mayo_sim = []\n",
    "for i, n1 in enumerate(mayo_names): \n",
    "    for j, n2 in enumerate(mayo_names): \n",
    "        mayo_sim.append((n1,n2,x[i][j]))\n",
    "mayo_sim = pd.DataFrame(mayo_sim, columns=['mayo1','mayo2','bert_cosine_similarity'])\n",
    "mayo_sim_match = mayo_sim.query('mayo1 in @remaining').query('mayo2 not in @remaining').query('mayo1 != mayo2')\\\n",
    ".query('not mayo1.str.contains(\"allergy\")').sort_values('bert_cosine_similarity', ascending=False).reset_index().drop('index',axis=1)\n",
    "ignore = [32,33,35,36,39,40,42,45,47,52,54,61,63,64,65,66,68,69,70,71,72,74,75]\n",
    "good_idx = list(set(list(range(76)))-set(ignore))\n",
    "mayo_sim_match_found = mayo_sim_match.query('bert_cosine_similarity >0.97').loc[good_idx, :]\n",
    "new = []\n",
    "for _, m1, m2, _ in mayo_sim_match_found.itertuples(): \n",
    "    # m1 remaining \n",
    "    # m2 known\n",
    "    for nn in found.query('mayo_name_lower == @m2').get('node_name_lower').values: \n",
    "        new.append((m1,nn))\n",
    "new = pd.DataFrame(new, columns=found.columns)\n",
    "found = pd.concat([found, new], ignore_index=True).drop_duplicates()\n",
    "remaining = set(list(mayo_names)) - set(list(found.get(['mayo_name_lower']).drop_duplicates().values.reshape(-1)))\n",
    "\n",
    "mayo_sim_match2 = mayo_sim.query('mayo1 in @remaining').query('mayo2 not in @remaining').query('mayo1 != mayo2')\\\n",
    ".query('not mayo1.str.contains(\"allergy\")').query('not mayo1.str.contains(\"polyps\")').query('not mayo1.str.contains(\"cancer\")')\\\n",
    ".sort_values('bert_cosine_similarity', ascending=False).reset_index().drop('index',axis=1)\n",
    "good_idx = [0,1,2,7,8,9,12,15,20,25,29,42,41,46,58,59,79,82,92,104,105,106,108,111,\n",
    "            113,133,134,154,156,157,158,165]\n",
    "mayo_sim_match_found2 = mayo_sim_match2.loc[good_idx, :]\n",
    "new = []\n",
    "for _, m1, m2, _ in mayo_sim_match_found2.itertuples(): \n",
    "    # m1 remaining \n",
    "    # m2 known\n",
    "    for nn in found.query('mayo_name_lower == @m2').get('node_name_lower').values: \n",
    "        new.append((m1,nn))\n",
    "new = pd.DataFrame(new, columns=found.columns)\n",
    "found = pd.concat([found, new], ignore_index=True).drop_duplicates()\n",
    "\n",
    "wrong = ['coma', 'milia', 'ten', 'lice', 'edema', 'gout']\n",
    "found = pd.concat([found.query('mayo_name_lower not in @wrong'), found.query('mayo_name_lower==node_name_lower')], ignore_index=True).drop_duplicates()"
   ]
  },
  {
   "cell_type": "code",
   "execution_count": 68,
   "metadata": {
    "ExecuteTime": {
     "end_time": "2021-05-15T05:39:21.343032Z",
     "start_time": "2021-05-15T05:39:17.296115Z"
    }
   },
   "outputs": [],
   "source": [
    "pd.set_option('display.max_rows', None)\n",
    "pd.set_option('display.max_colwidth', None)\n",
    "\n",
    "review1 = []\n",
    "for mn in mayo_names:\n",
    "    for nn in node_names:\n",
    "        if '(' in nn:\n",
    "            nn1 = nn.split(' (')[0]\n",
    "            if mn == nn1: \n",
    "                review1.append((mn,nn))\n",
    "            #elif nn1.count(mn): # mayo fully in kg\n",
    "            #    review1.append((mn,nn))\n",
    "            elif mn.count(' '+nn1): # kg fully in mayo \n",
    "                review1.append((mn,nn))\n",
    "\n",
    "\n",
    "review1 = pd.DataFrame(review1, columns=['mayo_name_lower','node_name_lower']).drop_duplicates()"
   ]
  },
  {
   "cell_type": "code",
   "execution_count": 73,
   "metadata": {
    "ExecuteTime": {
     "end_time": "2021-05-15T05:42:05.788535Z",
     "start_time": "2021-05-15T05:42:05.671161Z"
    }
   },
   "outputs": [],
   "source": [
    "ignore = ['leukemia (disease)', 'colitis (disease)']\n",
    "ok = review1.query('mayo_name_lower in @remaining').drop_duplicates().query('node_name_lower not in @ignore')\n",
    "\n",
    "found = pd.concat([found, ok], ignore_index=True).drop_duplicates()"
   ]
  },
  {
   "cell_type": "code",
   "execution_count": 98,
   "metadata": {
    "ExecuteTime": {
     "end_time": "2021-05-15T05:58:23.239454Z",
     "start_time": "2021-05-15T05:58:14.791078Z"
    }
   },
   "outputs": [],
   "source": [
    "review2 = []\n",
    "for mn in mayo_names:\n",
    "    x = mn.split(',')\n",
    "    if len(x)==2: \n",
    "        mn1 = x[0]\n",
    "        if len(mn1)>4:\n",
    "            for nn in node_names:\n",
    "                if len(nn)>4:\n",
    "                    a = mn1\n",
    "                    b = nn\n",
    "                    if a==b or a.count(b) or b.count(a):\n",
    "                        review2.append((mn,nn))\n",
    "review2 = pd.DataFrame(review2, columns=['mayo_name_lower','node_name_lower']).drop_duplicates()\n",
    "good_idx = [10,63,71,83,103,118,138,170,264,298,305,441,509,561,569,588,630,674,\n",
    "           702,711,729,747,997,1000,1020,1120,1149]\n",
    "\n",
    "\n",
    "found = pd.concat([found, review2.loc[good_idx,:]], ignore_index=True).drop_duplicates()"
   ]
  },
  {
   "cell_type": "code",
   "execution_count": null,
   "metadata": {},
   "outputs": [],
   "source": [
    "found.to_csv('found.csv')"
   ]
  },
  {
   "cell_type": "code",
   "execution_count": 116,
   "metadata": {
    "ExecuteTime": {
     "end_time": "2021-05-15T07:22:24.265534Z",
     "start_time": "2021-05-15T07:22:23.826981Z"
    },
    "collapsed": true
   },
   "outputs": [
    {
     "data": {
      "text/plain": [
       "0.669510552312528"
      ]
     },
     "execution_count": 116,
     "metadata": {},
     "output_type": "execute_result"
    }
   ],
   "source": [
    "found = read_csv('found')\n",
    "remaining = set(list(mayo_names)) - set(list(found.get(['mayo_name_lower']).drop_duplicates().values.reshape(-1)))\n",
    "len(remaining)\n",
    "1 - len(remaining)/len(set(list(mayo_names)))"
   ]
  },
  {
   "cell_type": "code",
   "execution_count": 125,
   "metadata": {
    "ExecuteTime": {
     "end_time": "2021-05-15T14:12:05.530922Z",
     "start_time": "2021-05-15T14:12:05.500009Z"
    }
   },
   "outputs": [
    {
     "data": {
      "text/plain": [
       "Index(['node_id', 'node_name', 'node_name_lower'], dtype='object')"
      ]
     },
     "execution_count": 125,
     "metadata": {},
     "output_type": "execute_result"
    }
   ],
   "source": [
    "mayo_map.columns"
   ]
  },
  {
   "cell_type": "code",
   "execution_count": 142,
   "metadata": {
    "ExecuteTime": {
     "end_time": "2021-05-15T14:20:40.617675Z",
     "start_time": "2021-05-15T14:20:40.517153Z"
    }
   },
   "outputs": [],
   "source": [
    "mayo_kg_map = pd.merge(pd.merge(found, mayo_map, on='node_name_lower'), \n",
    "         mayo_data.get(['name','mayo_name_lower']), on='mayo_name_lower').get(['node_id','node_name','name'])\\\n",
    "        .rename(columns={'name':'mayo_name'})\n",
    "\n",
    "mayo_kg_map.to_csv('mayo_kg_map_raw.csv')"
   ]
  },
  {
   "cell_type": "code",
   "execution_count": 143,
   "metadata": {
    "ExecuteTime": {
     "end_time": "2021-05-15T14:20:45.045025Z",
     "start_time": "2021-05-15T14:20:45.012571Z"
    }
   },
   "outputs": [
    {
     "data": {
      "text/html": [
       "<div>\n",
       "<style scoped>\n",
       "    .dataframe tbody tr th:only-of-type {\n",
       "        vertical-align: middle;\n",
       "    }\n",
       "\n",
       "    .dataframe tbody tr th {\n",
       "        vertical-align: top;\n",
       "    }\n",
       "\n",
       "    .dataframe thead th {\n",
       "        text-align: right;\n",
       "    }\n",
       "</style>\n",
       "<table border=\"1\" class=\"dataframe\">\n",
       "  <thead>\n",
       "    <tr style=\"text-align: right;\">\n",
       "      <th></th>\n",
       "      <th>node_id</th>\n",
       "      <th>node_name</th>\n",
       "      <th>mayo_name</th>\n",
       "    </tr>\n",
       "  </thead>\n",
       "  <tbody>\n",
       "    <tr>\n",
       "      <th>0</th>\n",
       "      <td>21107</td>\n",
       "      <td>narcolepsy</td>\n",
       "      <td>Daytime sleepiness, also known as Narcolepsy</td>\n",
       "    </tr>\n",
       "    <tr>\n",
       "      <th>1</th>\n",
       "      <td>21107</td>\n",
       "      <td>narcolepsy</td>\n",
       "      <td>Narcolepsy</td>\n",
       "    </tr>\n",
       "    <tr>\n",
       "      <th>2</th>\n",
       "      <td>16158</td>\n",
       "      <td>narcolepsy-cataplexy syndrome</td>\n",
       "      <td>Narcolepsy</td>\n",
       "    </tr>\n",
       "    <tr>\n",
       "      <th>3</th>\n",
       "      <td>8062</td>\n",
       "      <td>narcolepsy 1</td>\n",
       "      <td>Narcolepsy</td>\n",
       "    </tr>\n",
       "    <tr>\n",
       "      <th>4</th>\n",
       "      <td>9118</td>\n",
       "      <td>disseminated sclerosis with narcolepsy</td>\n",
       "      <td>Narcolepsy</td>\n",
       "    </tr>\n",
       "  </tbody>\n",
       "</table>\n",
       "</div>"
      ],
      "text/plain": [
       "  node_id                               node_name  \\\n",
       "0   21107                              narcolepsy   \n",
       "1   21107                              narcolepsy   \n",
       "2   16158           narcolepsy-cataplexy syndrome   \n",
       "3    8062                            narcolepsy 1   \n",
       "4    9118  disseminated sclerosis with narcolepsy   \n",
       "\n",
       "                                      mayo_name  \n",
       "0  Daytime sleepiness, also known as Narcolepsy  \n",
       "1                                    Narcolepsy  \n",
       "2                                    Narcolepsy  \n",
       "3                                    Narcolepsy  \n",
       "4                                    Narcolepsy  "
      ]
     },
     "execution_count": 143,
     "metadata": {},
     "output_type": "execute_result"
    }
   ],
   "source": [
    "# substitute grouped disease nodes in raw nodes \n",
    "mayo_kg_map.head()"
   ]
  },
  {
   "cell_type": "code",
   "execution_count": 157,
   "metadata": {
    "ExecuteTime": {
     "end_time": "2021-05-15T14:23:43.288225Z",
     "start_time": "2021-05-15T14:23:43.227926Z"
    }
   },
   "outputs": [
    {
     "data": {
      "text/html": [
       "<div>\n",
       "<style scoped>\n",
       "    .dataframe tbody tr th:only-of-type {\n",
       "        vertical-align: middle;\n",
       "    }\n",
       "\n",
       "    .dataframe tbody tr th {\n",
       "        vertical-align: top;\n",
       "    }\n",
       "\n",
       "    .dataframe thead th {\n",
       "        text-align: right;\n",
       "    }\n",
       "</style>\n",
       "<table border=\"1\" class=\"dataframe\">\n",
       "  <thead>\n",
       "    <tr style=\"text-align: right;\">\n",
       "      <th></th>\n",
       "      <th>node_id</th>\n",
       "      <th>node_type</th>\n",
       "      <th>node_name</th>\n",
       "      <th>node_source</th>\n",
       "      <th>group_num</th>\n",
       "      <th>group_id</th>\n",
       "      <th>group_name</th>\n",
       "    </tr>\n",
       "  </thead>\n",
       "  <tbody>\n",
       "    <tr>\n",
       "      <th>0</th>\n",
       "      <td>7254</td>\n",
       "      <td>disease</td>\n",
       "      <td>breast cancer</td>\n",
       "      <td>MONDO</td>\n",
       "      <td>0</td>\n",
       "      <td>7254_21100_3582_4989</td>\n",
       "      <td>breast cancer\\breast neoplasm\\hereditary breast ovarian cancer syndrome\\breast carcinoma</td>\n",
       "    </tr>\n",
       "    <tr>\n",
       "      <th>1</th>\n",
       "      <td>16419</td>\n",
       "      <td>disease</td>\n",
       "      <td>hereditary breast carcinoma</td>\n",
       "      <td>MONDO</td>\n",
       "      <td>1</td>\n",
       "      <td>16419_6244_4379_4953</td>\n",
       "      <td>hereditary breast carcinoma\\HER2 positive breast carcinoma\\female breast carcinoma\\invasive ductal breast carcinoma</td>\n",
       "    </tr>\n",
       "    <tr>\n",
       "      <th>2</th>\n",
       "      <td>21100</td>\n",
       "      <td>disease</td>\n",
       "      <td>breast neoplasm</td>\n",
       "      <td>MONDO</td>\n",
       "      <td>0</td>\n",
       "      <td>7254_21100_3582_4989</td>\n",
       "      <td>breast cancer\\breast neoplasm\\hereditary breast ovarian cancer syndrome\\breast carcinoma</td>\n",
       "    </tr>\n",
       "    <tr>\n",
       "      <th>3</th>\n",
       "      <td>3582</td>\n",
       "      <td>disease</td>\n",
       "      <td>hereditary breast ovarian cancer syndrome</td>\n",
       "      <td>MONDO</td>\n",
       "      <td>0</td>\n",
       "      <td>7254_21100_3582_4989</td>\n",
       "      <td>breast cancer\\breast neoplasm\\hereditary breast ovarian cancer syndrome\\breast carcinoma</td>\n",
       "    </tr>\n",
       "    <tr>\n",
       "      <th>4</th>\n",
       "      <td>16266</td>\n",
       "      <td>disease</td>\n",
       "      <td>squamous cell carcinoma of the corpus uteri</td>\n",
       "      <td>MONDO</td>\n",
       "      <td>2</td>\n",
       "      <td>16266_16267</td>\n",
       "      <td>squamous cell carcinoma of the corpus uteri\\undifferentiated carcinoma of the corpus uteri</td>\n",
       "    </tr>\n",
       "  </tbody>\n",
       "</table>\n",
       "</div>"
      ],
      "text/plain": [
       "  node_id node_type                                    node_name node_source  \\\n",
       "0    7254   disease                                breast cancer       MONDO   \n",
       "1   16419   disease                  hereditary breast carcinoma       MONDO   \n",
       "2   21100   disease                              breast neoplasm       MONDO   \n",
       "3    3582   disease    hereditary breast ovarian cancer syndrome       MONDO   \n",
       "4   16266   disease  squamous cell carcinoma of the corpus uteri       MONDO   \n",
       "\n",
       "  group_num              group_id  \\\n",
       "0         0  7254_21100_3582_4989   \n",
       "1         1  16419_6244_4379_4953   \n",
       "2         0  7254_21100_3582_4989   \n",
       "3         0  7254_21100_3582_4989   \n",
       "4         2           16266_16267   \n",
       "\n",
       "                                                                                                            group_name  \n",
       "0                             breast cancer\\breast neoplasm\\hereditary breast ovarian cancer syndrome\\breast carcinoma  \n",
       "1  hereditary breast carcinoma\\HER2 positive breast carcinoma\\female breast carcinoma\\invasive ductal breast carcinoma  \n",
       "2                             breast cancer\\breast neoplasm\\hereditary breast ovarian cancer syndrome\\breast carcinoma  \n",
       "3                             breast cancer\\breast neoplasm\\hereditary breast ovarian cancer syndrome\\breast carcinoma  \n",
       "4                           squamous cell carcinoma of the corpus uteri\\undifferentiated carcinoma of the corpus uteri  "
      ]
     },
     "execution_count": 157,
     "metadata": {},
     "output_type": "execute_result"
    }
   ],
   "source": [
    "grouped_diseases = read_csv('../knowledge_graph/grouped_diseases').astype(str)\n",
    "grouped_diseases.head()"
   ]
  },
  {
   "cell_type": "code",
   "execution_count": 178,
   "metadata": {
    "ExecuteTime": {
     "end_time": "2021-05-15T14:29:06.274923Z",
     "start_time": "2021-05-15T14:28:48.859039Z"
    }
   },
   "outputs": [],
   "source": [
    "mayo_kg_map_group = mayo_kg_map.copy()\n",
    "\n",
    "for data in mayo_kg_map.itertuples():\n",
    "    x = grouped_diseases.query('node_id==@data.node_id and node_name==@data.node_name')\n",
    "    if not x.empty:\n",
    "        x = x.reset_index()\n",
    "        mayo_kg_map_group.loc[data.Index, 'node_id'] = x.loc[0, 'group_id']\n",
    "        mayo_kg_map_group.loc[data.Index, 'node_name'] = x.loc[0, 'group_name']\n",
    "    x = pd.DataFrame()"
   ]
  },
  {
   "cell_type": "code",
   "execution_count": 183,
   "metadata": {
    "ExecuteTime": {
     "end_time": "2021-05-15T14:33:05.083037Z",
     "start_time": "2021-05-15T14:33:04.957747Z"
    }
   },
   "outputs": [],
   "source": [
    "mayo_kg_map_group = mayo_kg_map_group.drop_duplicates()\n",
    "mayo_kg_map_group.to_csv('mayo_kg_map_group.csv')"
   ]
  },
  {
   "cell_type": "code",
   "execution_count": 186,
   "metadata": {
    "ExecuteTime": {
     "end_time": "2021-05-15T14:33:28.941009Z",
     "start_time": "2021-05-15T14:33:28.904584Z"
    }
   },
   "outputs": [
    {
     "data": {
      "text/plain": [
       "5595"
      ]
     },
     "execution_count": 186,
     "metadata": {},
     "output_type": "execute_result"
    }
   ],
   "source": [
    "mayo_kg_map_group.get(['node_id']).drop_duplicates().shape[0]"
   ]
  },
  {
   "cell_type": "code",
   "execution_count": 187,
   "metadata": {
    "ExecuteTime": {
     "end_time": "2021-05-15T14:33:37.742830Z",
     "start_time": "2021-05-15T14:33:37.707056Z"
    }
   },
   "outputs": [
    {
     "data": {
      "text/plain": [
       "1491"
      ]
     },
     "execution_count": 187,
     "metadata": {},
     "output_type": "execute_result"
    }
   ],
   "source": [
    "mayo_kg_map_group.get(['mayo_name']).drop_duplicates().shape[0]"
   ]
  },
  {
   "cell_type": "code",
   "execution_count": null,
   "metadata": {},
   "outputs": [],
   "source": []
  }
 ],
 "metadata": {
  "hide_input": false,
  "kernelspec": {
   "display_name": "Python 3",
   "language": "python",
   "name": "python3"
  },
  "language_info": {
   "codemirror_mode": {
    "name": "ipython",
    "version": 3
   },
   "file_extension": ".py",
   "mimetype": "text/x-python",
   "name": "python",
   "nbconvert_exporter": "python",
   "pygments_lexer": "ipython3",
   "version": "3.8.2"
  },
  "toc": {
   "base_numbering": 1,
   "nav_menu": {},
   "number_sections": false,
   "sideBar": false,
   "skip_h1_title": false,
   "title_cell": "Table of Contents",
   "title_sidebar": "Contents",
   "toc_cell": false,
   "toc_position": {
    "height": "511.3043518066406px",
    "left": "227.99998474121094px",
    "top": "334.45654296875px",
    "width": "250.43478393554688px"
   },
   "toc_section_display": true,
   "toc_window_display": false
  }
 },
 "nbformat": 4,
 "nbformat_minor": 4
}
