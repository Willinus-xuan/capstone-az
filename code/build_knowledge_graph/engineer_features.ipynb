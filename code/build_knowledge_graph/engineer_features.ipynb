{
 "cells": [
  {
   "cell_type": "code",
   "execution_count": 1,
   "metadata": {
    "ExecuteTime": {
     "end_time": "2021-08-06T12:33:50.106336Z",
     "start_time": "2021-08-06T12:33:44.674527Z"
    }
   },
   "outputs": [],
   "source": [
    "from tqdm.notebook import tqdm\n",
    "import re\n",
    "import os \n",
    "import shutil\n",
    "import numpy as np\n",
    "import pandas as pd\n",
    "import igraph as ig\n",
    "from scipy.sparse import lil_matrix, save_npz\n",
    "from sklearn.metrics.pairwise import cosine_similarity\n",
    "import torch\n",
    "from transformers import AutoTokenizer, AutoModel, pipeline\n",
    "%load_ext autoreload\n",
    "%autoreload 2\n",
    "\n",
    "data_path = '../../datasets/'\n",
    "save_path = data_path+'kg/'"
   ]
  },
  {
   "cell_type": "code",
   "execution_count": 2,
   "metadata": {
    "ExecuteTime": {
     "end_time": "2021-08-06T12:34:08.191501Z",
     "start_time": "2021-08-06T12:33:50.108368Z"
    }
   },
   "outputs": [],
   "source": [
    "nodes = pd.read_csv(save_path+'nodes.csv', low_memory=False)\n",
    "edges = pd.read_csv(save_path+'edges.csv', low_memory=False)\n",
    "kg = pd.read_csv(save_path+'kg.csv', low_memory=False)"
   ]
  },
  {
   "cell_type": "markdown",
   "metadata": {
    "heading_collapsed": true
   },
   "source": [
    "## Drug Features"
   ]
  },
  {
   "cell_type": "code",
   "execution_count": 3,
   "metadata": {
    "ExecuteTime": {
     "end_time": "2021-08-06T12:34:08.311094Z",
     "start_time": "2021-08-06T12:34:08.195737Z"
    },
    "hidden": true
   },
   "outputs": [],
   "source": [
    "drugs = nodes.query('node_type==\"drug\"')\n",
    "drug_features = drugs.copy()"
   ]
  },
  {
   "cell_type": "markdown",
   "metadata": {
    "hidden": true
   },
   "source": [
    "### Drugbank"
   ]
  },
  {
   "cell_type": "code",
   "execution_count": 4,
   "metadata": {
    "ExecuteTime": {
     "end_time": "2021-08-06T12:34:09.281883Z",
     "start_time": "2021-08-06T12:34:08.337840Z"
    },
    "hidden": true
   },
   "outputs": [],
   "source": [
    "data = [('atc_1', data_path+'drugbank/drug_features/atc_1.csv'),\n",
    "        ('atc_2', data_path+'drugbank/drug_features/atc_2.csv'),\n",
    "        ('atc_3', data_path+'drugbank/drug_features/atc_3.csv'),\n",
    "        ('atc_4', data_path+'drugbank/drug_features/atc_4.csv'),\n",
    "        ('Description', data_path+'drugbank/drug_features/description.csv'),\n",
    "        ('Drugcat', data_path+'drugbank/drug_features/drugcat.csv'),\n",
    "        ('Group', data_path+'drugbank/drug_features/group.csv'),\n",
    "        ('Half-life', data_path+'drugbank/drug_features/Hl.csv'),\n",
    "        ('Indication', data_path+'drugbank/drug_features/indication.csv'),\n",
    "        ('MOA', data_path+'drugbank/drug_features/moa.csv'),\n",
    "        ('Pathway', data_path+'drugbank/drug_features/pathway.csv'),\n",
    "        ('pb', data_path+'drugbank/drug_features/pb.csv'),\n",
    "        ('Pharm', data_path+'drugbank/drug_features/pharm.csv'),\n",
    "        ('State', data_path+'drugbank/drug_features/state.csv')]\n",
    "\n",
    "unique = []\n",
    "multiple = []\n",
    "\n",
    "for name, pth in data: \n",
    "    feat = pd.read_csv(pth)\n",
    "    #display(feat.head())\n",
    "    if pd.merge(drugs, feat.rename(columns={\"ID\":'node_id'})).get(['node_id', name]).groupby('node_id').count().rename(columns={name:'count'}).query('count>1').empty: \n",
    "        #print('Feature is unique')\n",
    "        unique.append((name,pth))\n",
    "    else: \n",
    "        #print('Contains multiple entries for each drug')\n",
    "        multiple.append((name,pth))"
   ]
  },
  {
   "cell_type": "code",
   "execution_count": 5,
   "metadata": {
    "ExecuteTime": {
     "end_time": "2021-08-06T12:34:52.257424Z",
     "start_time": "2021-08-06T12:34:09.283520Z"
    },
    "hidden": true
   },
   "outputs": [],
   "source": [
    "for name, pth in unique: \n",
    "    feat = pd.read_csv(pth)\n",
    "    drug_features = pd.merge(drug_features, feat.rename(columns={\"ID\":'node_id'}), 'left')\n",
    "    \n",
    "def group(feat, name, join_word=' ; '): \n",
    "    id_col = 'ID'\n",
    "    feat_grouped = []\n",
    "    for _, group in feat.groupby(id_col): \n",
    "\n",
    "        node_idx = group.get(id_col).values[0]\n",
    "\n",
    "        if group.dropna().shape[0] == 0: # no features    \n",
    "            f = ''\n",
    "        elif group.shape[0]>1: # multiple features\n",
    "            f = join_word.join(group.get(name).values)\n",
    "        else: # one only \n",
    "            f = group.get(name).values[0]\n",
    "\n",
    "        assert isinstance(f, str)\n",
    "\n",
    "        feat_grouped.append((node_idx, f))\n",
    "\n",
    "    return pd.DataFrame(feat_grouped, columns=[id_col, name])\n",
    "    \n",
    "\n",
    "for name, pth in multiple:\n",
    "    feat = pd.read_csv(pth)\n",
    "    if name == 'Group' or 'atc' in name: \n",
    "        join_word = ' and '\n",
    "    else: \n",
    "        join_word = ' ; '\n",
    "    if 'atc' in name: \n",
    "        feat.loc[:, name] = feat.get(name).str.lower()\n",
    "    if name == 'Pathway': \n",
    "        feat[name] = np.array([x.split('|')[0] for x in feat.get(name).values])\n",
    "    feat = group(feat=feat, name=name, join_word=join_word)\n",
    "    drug_features = pd.merge(drug_features, feat.rename(columns={\"ID\":'node_id'}), 'left')"
   ]
  },
  {
   "cell_type": "markdown",
   "metadata": {
    "hidden": true
   },
   "source": [
    "### Drug Central"
   ]
  },
  {
   "cell_type": "code",
   "execution_count": 6,
   "metadata": {
    "ExecuteTime": {
     "end_time": "2021-08-06T12:34:52.386425Z",
     "start_time": "2021-08-06T12:34:52.259433Z"
    },
    "hidden": true
   },
   "outputs": [],
   "source": [
    "dc = pd.read_csv(data_path+'drugcentral/dc_features.csv')\n",
    "dc = dc.get(['id', 'MW', 'TPSA', 'CLOGP']).round(2).drop_duplicates().fillna('').astype('str')\n",
    "dc = dc.rename(columns={'id':'node_id'})"
   ]
  },
  {
   "cell_type": "code",
   "execution_count": 7,
   "metadata": {
    "ExecuteTime": {
     "end_time": "2021-08-06T12:34:52.443724Z",
     "start_time": "2021-08-06T12:34:52.388508Z"
    },
    "hidden": true
   },
   "outputs": [],
   "source": [
    "drug_features = pd.merge(drug_features, dc, 'left', on='node_id')"
   ]
  },
  {
   "cell_type": "markdown",
   "metadata": {
    "heading_collapsed": true,
    "hidden": true
   },
   "source": [
    "### Processing"
   ]
  },
  {
   "cell_type": "code",
   "execution_count": 8,
   "metadata": {
    "ExecuteTime": {
     "end_time": "2021-08-06T12:34:52.581998Z",
     "start_time": "2021-08-06T12:34:52.448631Z"
    },
    "hidden": true
   },
   "outputs": [],
   "source": [
    "drug_features = drug_features.drop_duplicates().fillna('').astype('str')\n",
    "\n",
    "drug_features = drug_features.rename(columns={'Description':'description', 'Half-life':'half_life', \n",
    "                                  'Indication':'indication', 'MOA':'mechanism_of_action', 'pb':'protein_binding',\n",
    "                                  'Pharm':'pharmacodynamics', 'State':'state', 'Drugcat':'category', \n",
    "                                  'Group':'group', 'Pathway':\"pathway\", 'MW':'molecular_weight', \n",
    "                                  'TPSA':'tpsa', 'CLOGP':'clogp'})"
   ]
  },
  {
   "cell_type": "code",
   "execution_count": 9,
   "metadata": {
    "ExecuteTime": {
     "end_time": "2021-08-06T12:34:54.316566Z",
     "start_time": "2021-08-06T12:34:52.585566Z"
    },
    "hidden": true
   },
   "outputs": [],
   "source": [
    "drug_features.fillna('', inplace=True)\n",
    "\n",
    "# remove \"[L64839]\" type tokens from all text \n",
    "for c in drug_features.columns: \n",
    "    new = []\n",
    "    for x in drug_features.get(c).values.astype('str'): \n",
    "        x = re.sub('\\[(.*?)\\]', '', x)\n",
    "        x = re.sub('  ', ' ', x)\n",
    "        x = re.sub(' \\.', '.', x)\n",
    "        new.append(x)\n",
    "    drug_features.loc[:, c] = np.array(new)"
   ]
  },
  {
   "cell_type": "code",
   "execution_count": 10,
   "metadata": {
    "ExecuteTime": {
     "end_time": "2021-08-06T12:34:54.363469Z",
     "start_time": "2021-08-06T12:34:54.318457Z"
    },
    "hidden": true
   },
   "outputs": [],
   "source": [
    "# half life is irregular feature with text but not sentences. probably useful for dosage only. \n",
    "hl = drug_features.get(['half_life']).values.reshape(-1)\n",
    "\n",
    "# remove sentences with no data available\n",
    "no_data_idx = np.array([i for i, x in enumerate(hl) if (('data' in x or 'Data' in x) and (('not' in x or 'Not' in x) or ('no' in x or 'No' in x)))])\n",
    "hl[no_data_idx] = ''\n",
    "\n",
    "# add \"half life\" where sentence fragments \n",
    "add_hl_idx = np.array([i for i, x in enumerate(hl) if 'half life' not in x and 'half-life' not in x and len(x.split(' '))<7 and x!=''])\n",
    "for i in add_hl_idx: \n",
    "    s = hl[i]\n",
    "    hl[i] = 'The half-life is '+ s[0].lower() + s[1:]\n",
    "    \n",
    "drug_features.loc[:, 'half_life'] = hl"
   ]
  },
  {
   "cell_type": "code",
   "execution_count": 11,
   "metadata": {
    "ExecuteTime": {
     "end_time": "2021-08-06T12:34:56.425676Z",
     "start_time": "2021-08-06T12:34:54.365614Z"
    },
    "hidden": true
   },
   "outputs": [],
   "source": [
    "# convert binary and single word features into text \n",
    "\n",
    "def word2sent(feature, intro, end='.', names=None, name_token = '<name>'): \n",
    "    feature = feature.astype(str)\n",
    "    n = feature.shape[0]\n",
    "    \n",
    "    if name_token in intro: \n",
    "        assert names is not None\n",
    "        a = []\n",
    "        for part in intro.split(name_token):\n",
    "            if part == '': \n",
    "                a.append(names.astype(str))\n",
    "            else: \n",
    "                a.append(np.char.array([part]*n))\n",
    "    else: \n",
    "        a = [np.char.array([intro]*n)]\n",
    "        \n",
    "    a.extend([feature, np.char.array([end]*n)])\n",
    "    f = a[0]\n",
    "    for i in a[1:]: \n",
    "        f = f.astype(str) + i.astype(str)\n",
    "        \n",
    "    f = np.where(feature == '', '', f)\n",
    "    \n",
    "    return f   \n",
    "\n",
    "drug_names = np.char.array(drug_features.get(['node_name']).values.reshape(-1).astype(str))\n",
    "\n",
    "f_name = 'state'\n",
    "f = drug_features.get([f_name]).values.reshape(-1)\n",
    "drug_features.loc[:, f_name] = word2sent(feature=f, intro='<name> is a ', names=drug_names)\n",
    "\n",
    "f_name = 'category'\n",
    "f = drug_features.get([f_name]).values.reshape(-1)\n",
    "drug_features.loc[:, f_name] = word2sent(feature=f, intro='<name> is part of ', names=drug_names)\n",
    "\n",
    "f_name = 'group'\n",
    "f = drug_features.get([f_name]).values.reshape(-1)\n",
    "drug_features.loc[:, f_name] = word2sent(feature=f, intro='<name> is ', names=drug_names)\n",
    "\n",
    "f_name = 'pathway'\n",
    "f = drug_features.get([f_name]).values.reshape(-1)\n",
    "drug_features.loc[:, f_name] = word2sent(feature=f, intro='<name> uses ', names=drug_names)\n",
    "\n",
    "f_name = 'molecular_weight'\n",
    "f = drug_features.get([f_name]).values.reshape(-1)\n",
    "drug_features.loc[:, f_name] = word2sent(feature=f, intro='The molecular weight is ', names=drug_names)\n",
    "\n",
    "f_name = 'tpsa'\n",
    "f = drug_features.get([f_name]).values.reshape(-1)\n",
    "drug_features.loc[:, f_name] = word2sent(feature=f, intro='<name> has a topological polar surface area of ', names=drug_names)\n",
    "\n",
    "f_name = 'clogp'\n",
    "f = drug_features.get([f_name]).values.reshape(-1)\n",
    "drug_features.loc[:, f_name] = word2sent(feature=f, intro='The log p value of <name> is ', names=drug_names)\n",
    "\n",
    "f_name = 'atc_1'\n",
    "f = drug_features.get([f_name]).values.reshape(-1)\n",
    "drug_features.loc[:, f_name] = word2sent(feature=f, intro='<name> is anatomically related to ', names=drug_names)\n",
    "\n",
    "f_name = 'atc_2'\n",
    "f = drug_features.get([f_name]).values.reshape(-1)\n",
    "drug_features.loc[:, f_name] = word2sent(feature=f, intro='<name> is in the therapeutic group of ', names=drug_names)\n",
    "\n",
    "f_name = 'atc_3'\n",
    "f = drug_features.get([f_name]).values.reshape(-1)\n",
    "drug_features.loc[:, f_name] = word2sent(feature=f, intro='<name> is pharmacologically related to ', names=drug_names)\n",
    "\n",
    "f_name = 'atc_4'\n",
    "f = drug_features.get([f_name]).values.reshape(-1)\n",
    "drug_features.loc[:, f_name] = word2sent(feature=f, intro='The chemical and functional group of <name> is ', names=drug_names)"
   ]
  },
  {
   "cell_type": "code",
   "execution_count": 12,
   "metadata": {
    "ExecuteTime": {
     "end_time": "2021-08-06T12:34:56.487650Z",
     "start_time": "2021-08-06T12:34:56.429162Z"
    },
    "hidden": true
   },
   "outputs": [],
   "source": [
    "drug_features = drug_features.drop(['node_id', 'node_type', 'node_name', 'node_source'], axis=1)"
   ]
  },
  {
   "cell_type": "code",
   "execution_count": 13,
   "metadata": {
    "ExecuteTime": {
     "end_time": "2021-08-06T12:34:56.790583Z",
     "start_time": "2021-08-06T12:34:56.489676Z"
    },
    "hidden": true
   },
   "outputs": [],
   "source": [
    "drug_features.to_csv(save_path+'drug_features.csv', index=False)"
   ]
  },
  {
   "cell_type": "code",
   "execution_count": 14,
   "metadata": {
    "ExecuteTime": {
     "end_time": "2021-08-06T12:34:57.072023Z",
     "start_time": "2021-08-06T12:34:56.792305Z"
    },
    "hidden": true
   },
   "outputs": [
    {
     "data": {
      "text/html": [
       "<div>\n",
       "<style scoped>\n",
       "    .dataframe tbody tr th:only-of-type {\n",
       "        vertical-align: middle;\n",
       "    }\n",
       "\n",
       "    .dataframe tbody tr th {\n",
       "        vertical-align: top;\n",
       "    }\n",
       "\n",
       "    .dataframe thead th {\n",
       "        text-align: right;\n",
       "    }\n",
       "</style>\n",
       "<table border=\"1\" class=\"dataframe\">\n",
       "  <thead>\n",
       "    <tr style=\"text-align: right;\">\n",
       "      <th></th>\n",
       "      <th>count</th>\n",
       "      <th>unique</th>\n",
       "      <th>percent_covered</th>\n",
       "    </tr>\n",
       "  </thead>\n",
       "  <tbody>\n",
       "    <tr>\n",
       "      <th>node_index</th>\n",
       "      <td>7957</td>\n",
       "      <td>7957</td>\n",
       "      <td>100.0</td>\n",
       "    </tr>\n",
       "    <tr>\n",
       "      <th>group</th>\n",
       "      <td>7957</td>\n",
       "      <td>7903</td>\n",
       "      <td>100.0</td>\n",
       "    </tr>\n",
       "    <tr>\n",
       "      <th>state</th>\n",
       "      <td>6517</td>\n",
       "      <td>6463</td>\n",
       "      <td>81.9</td>\n",
       "    </tr>\n",
       "    <tr>\n",
       "      <th>category</th>\n",
       "      <td>5431</td>\n",
       "      <td>5431</td>\n",
       "      <td>68.3</td>\n",
       "    </tr>\n",
       "    <tr>\n",
       "      <th>description</th>\n",
       "      <td>4591</td>\n",
       "      <td>4565</td>\n",
       "      <td>57.7</td>\n",
       "    </tr>\n",
       "    <tr>\n",
       "      <th>indication</th>\n",
       "      <td>3393</td>\n",
       "      <td>3076</td>\n",
       "      <td>42.6</td>\n",
       "    </tr>\n",
       "    <tr>\n",
       "      <th>mechanism_of_action</th>\n",
       "      <td>3242</td>\n",
       "      <td>3161</td>\n",
       "      <td>40.7</td>\n",
       "    </tr>\n",
       "    <tr>\n",
       "      <th>atc_4</th>\n",
       "      <td>2818</td>\n",
       "      <td>1040</td>\n",
       "      <td>35.4</td>\n",
       "    </tr>\n",
       "    <tr>\n",
       "      <th>atc_3</th>\n",
       "      <td>2818</td>\n",
       "      <td>2818</td>\n",
       "      <td>35.4</td>\n",
       "    </tr>\n",
       "    <tr>\n",
       "      <th>atc_2</th>\n",
       "      <td>2818</td>\n",
       "      <td>2818</td>\n",
       "      <td>35.4</td>\n",
       "    </tr>\n",
       "    <tr>\n",
       "      <th>atc_1</th>\n",
       "      <td>2818</td>\n",
       "      <td>2818</td>\n",
       "      <td>35.4</td>\n",
       "    </tr>\n",
       "    <tr>\n",
       "      <th>molecular_weight</th>\n",
       "      <td>2797</td>\n",
       "      <td>2308</td>\n",
       "      <td>35.2</td>\n",
       "    </tr>\n",
       "    <tr>\n",
       "      <th>tpsa</th>\n",
       "      <td>2718</td>\n",
       "      <td>2718</td>\n",
       "      <td>34.2</td>\n",
       "    </tr>\n",
       "    <tr>\n",
       "      <th>pharmacodynamics</th>\n",
       "      <td>2659</td>\n",
       "      <td>2617</td>\n",
       "      <td>33.4</td>\n",
       "    </tr>\n",
       "    <tr>\n",
       "      <th>clogp</th>\n",
       "      <td>2574</td>\n",
       "      <td>980</td>\n",
       "      <td>32.3</td>\n",
       "    </tr>\n",
       "    <tr>\n",
       "      <th>half_life</th>\n",
       "      <td>2063</td>\n",
       "      <td>1893</td>\n",
       "      <td>25.9</td>\n",
       "    </tr>\n",
       "    <tr>\n",
       "      <th>protein_binding</th>\n",
       "      <td>1669</td>\n",
       "      <td>1487</td>\n",
       "      <td>21.0</td>\n",
       "    </tr>\n",
       "    <tr>\n",
       "      <th>pathway</th>\n",
       "      <td>598</td>\n",
       "      <td>598</td>\n",
       "      <td>7.5</td>\n",
       "    </tr>\n",
       "  </tbody>\n",
       "</table>\n",
       "</div>"
      ],
      "text/plain": [
       "                    count unique  percent_covered\n",
       "node_index           7957   7957            100.0\n",
       "group                7957   7903            100.0\n",
       "state                6517   6463             81.9\n",
       "category             5431   5431             68.3\n",
       "description          4591   4565             57.7\n",
       "indication           3393   3076             42.6\n",
       "mechanism_of_action  3242   3161             40.7\n",
       "atc_4                2818   1040             35.4\n",
       "atc_3                2818   2818             35.4\n",
       "atc_2                2818   2818             35.4\n",
       "atc_1                2818   2818             35.4\n",
       "molecular_weight     2797   2308             35.2\n",
       "tpsa                 2718   2718             34.2\n",
       "pharmacodynamics     2659   2617             33.4\n",
       "clogp                2574    980             32.3\n",
       "half_life            2063   1893             25.9\n",
       "protein_binding      1669   1487             21.0\n",
       "pathway               598    598              7.5"
      ]
     },
     "execution_count": 14,
     "metadata": {},
     "output_type": "execute_result"
    }
   ],
   "source": [
    "drug_features = drug_features.replace('', float('nan'))\n",
    "drug_features_stats = drug_features.describe(include='all').loc[['count','unique'],:].T\n",
    "c = 'percent_covered'\n",
    "drug_features_stats.loc[:, c] = 100*drug_features_stats.get('count').values.reshape(-1)/drug_features.shape[0]\n",
    "drug_features_stats.loc[:, c] = drug_features_stats.get([c]).astype(float).round(1)\n",
    "drug_features_stats.sort_values('count', ascending=False)"
   ]
  },
  {
   "cell_type": "markdown",
   "metadata": {},
   "source": [
    "## Disease features"
   ]
  },
  {
   "cell_type": "code",
   "execution_count": 15,
   "metadata": {
    "ExecuteTime": {
     "end_time": "2021-08-06T12:34:57.293210Z",
     "start_time": "2021-08-06T12:34:57.083683Z"
    }
   },
   "outputs": [],
   "source": [
    "kg_diseases = nodes.query('node_type==\"disease\"')\n",
    "disease_map = pd.read_csv(data_path+'kg/auxillary/kg_grouped_diseases_bert_map.csv').astype(str)\n",
    "\n",
    "x = kg_diseases.query('node_source!=\"MONDO_grouped\"').get(['node_index', 'node_id', 'node_name'])\\\n",
    ".rename(columns={'node_id':'mondo_id', 'node_name':'mondo_name'})\n",
    "x['group_id_bert'] = ''\n",
    "x['group_name_bert'] = ''\n",
    "\n",
    "y = pd.merge(kg_diseases.query('node_source==\"MONDO_grouped\"').get(['node_index','node_id']).rename(columns={'node_id':'group_id_bert'}), \n",
    "         disease_map, 'outer').get(['node_index', 'group_id_bert', 'group_name_bert', 'node_id', 'node_name'])\\\n",
    ".rename(columns={'node_id':'mondo_id', 'node_name':'mondo_name'})\n",
    "\n",
    "diseases = pd.concat([x,y]).reset_index().drop('index', axis=1)\n",
    "disease_features = diseases.copy()"
   ]
  },
  {
   "cell_type": "markdown",
   "metadata": {
    "heading_collapsed": true
   },
   "source": [
    "### Mondo definitions"
   ]
  },
  {
   "cell_type": "code",
   "execution_count": 16,
   "metadata": {
    "ExecuteTime": {
     "end_time": "2021-08-06T12:34:57.536227Z",
     "start_time": "2021-08-06T12:34:57.296669Z"
    },
    "hidden": true
   },
   "outputs": [],
   "source": [
    "mondo_def = pd.read_csv(data_path+'mondo/mondo_definitions.csv').astype(str)\n",
    "mondo_def = mondo_def.get(['id','definition']).rename(columns={'id':'mondo_id', 'definition':'mondo_definition'})\n",
    "disease_features = pd.merge(disease_features, mondo_def, 'left').fillna('')"
   ]
  },
  {
   "cell_type": "markdown",
   "metadata": {
    "heading_collapsed": true
   },
   "source": [
    "### UMLS"
   ]
  },
  {
   "cell_type": "code",
   "execution_count": 17,
   "metadata": {
    "ExecuteTime": {
     "end_time": "2021-08-06T12:34:59.089878Z",
     "start_time": "2021-08-06T12:34:57.538494Z"
    },
    "hidden": true
   },
   "outputs": [],
   "source": [
    "umls1 = pd.read_csv(data_path+'umls/umls_def_disease_2021.csv')\n",
    "umls2 = pd.read_csv(data_path+'umls/umls_def_disorder_2021.csv')\n",
    "umls = pd.concat([umls1,umls2]).drop('source',axis=1).drop_duplicates()\n",
    "mondo_umls_map = pd.read_csv('../../datasets/vocab/umls_mondo.csv')\n",
    "umls = pd.merge(mondo_umls_map, umls, 'inner', left_on='umls_id', right_on='CUI')\n",
    "umls = umls.drop(['umls_id','CUI'],axis=1).drop_duplicates().rename(columns={'description':'umls_description'})\n",
    "\n",
    "def fix_format(x): \n",
    "    s = []\n",
    "    for word in x.split(' '):\n",
    "        if len(word)>1 and word.isupper(): \n",
    "            s.append(word.lower())\n",
    "        else: \n",
    "            s.append(word)\n",
    "    s = \" \".join(s)\n",
    "\n",
    "    s = re.sub('\\[.*?\\]','',s)\n",
    "    s = re.sub('\\<.*?\\>','',s)\n",
    "    s = re.sub('\\(.*?\\)','',s)\n",
    "    s = s.replace('  ', ' ')\n",
    "    s = s.replace('  ', ' ')\n",
    "    s = s.replace(' .', '')\n",
    "    return s\n",
    "\n",
    "umls.loc[:, 'umls_description'] = [fix_format(x) for x in umls.get('umls_description').values]\n",
    "umls = umls.drop_duplicates().astype(str)\n",
    "disease_features = pd.merge(disease_features, umls, 'left').fillna('')"
   ]
  },
  {
   "cell_type": "markdown",
   "metadata": {
    "heading_collapsed": true
   },
   "source": [
    "### Orphanet"
   ]
  },
  {
   "cell_type": "code",
   "execution_count": 18,
   "metadata": {
    "ExecuteTime": {
     "end_time": "2021-08-06T12:34:59.867471Z",
     "start_time": "2021-08-06T12:34:59.092116Z"
    },
    "hidden": true
   },
   "outputs": [],
   "source": [
    "mondo_xref = pd.read_csv(data_path+'mondo/mondo_references.csv').astype(str).query('ontology==\"Orphanet\"').drop(['ontology'],axis=1)\n",
    "\n",
    "orphanet = pd.read_csv(data_path+'orphanet/orphanet.csv').drop(['UMLS'],axis=1)\n",
    "orphanet.loc[:, 'disease_id'] = [x.split(':')[1] for x in orphanet.get('disease_id').values]\n",
    "orphanet = orphanet.drop(['disease_shortname','disease_name'],axis=1).drop_duplicates()\n",
    "orphanet = orphanet.replace('', float('nan')).replace('-', float('nan'))\n",
    "orphanet = orphanet.rename(columns={'definition':'orphanet_definition'})\n",
    "\n",
    "q = '@orphanet.get(\"orphanet_definition\").isna() and @orphanet.get(\"prevalence\").isna() and @orphanet.get(\"epidemiology\").isna() and @orphanet.get(\"clinical_description\").isna() and @orphanet.get(\"management_and_treatment\").isna()'\n",
    "orphanet = orphanet.drop(orphanet.query(q).index)\n",
    "assert orphanet.query(q).empty\n",
    "\n",
    "orphanet = pd.merge(orphanet, mondo_xref, 'left', left_on='disease_id', right_on='ontology_id')\n",
    "orphanet = orphanet.drop(['disease_id','ontology_id'],axis=1).drop_duplicates()\n",
    "orphanet = orphanet.fillna('').astype(str)\n",
    "\n",
    "def fix_num(x): \n",
    "    x = x.replace(' / ','/')\n",
    "    for expr in [r'\\d{1} \\d{3}',r'\\d{1},\\d{3}']: \n",
    "        res = re.search(expr, x)\n",
    "        while res: \n",
    "            x = x[:res.start()+1] + x[res.start()+2:]\n",
    "            res = re.search(expr, x)\n",
    "    return x\n",
    "\n",
    "orphanet.loc[:, 'prevalence'] = [fix_num(x) if x!=\"Unknown\" else '' for x  in orphanet.get('prevalence').values]\n",
    "orphanet.loc[:, 'epidemiology'] = [fix_num(x) for x  in orphanet.get('epidemiology').values]\n",
    "orphanet = orphanet.rename(columns={'prevalence':'orphanet_prevalence', 'epidemiology':'orphanet_epidemiology', \n",
    "                                    'clinical_description':'orphanet_clinical_description', \n",
    "                                    'management_and_treatment':'orphanet_management_and_treatment'})\n",
    "orphanet = orphanet.drop_duplicates()\n",
    "disease_features = pd.merge(disease_features, orphanet, 'left').fillna('')"
   ]
  },
  {
   "cell_type": "markdown",
   "metadata": {
    "heading_collapsed": true
   },
   "source": [
    "### Mayo clinic"
   ]
  },
  {
   "cell_type": "markdown",
   "metadata": {
    "hidden": true
   },
   "source": [
    "Note: The code to manually identify mappings between names in Mayo Clinic and names in the RxData KG are provided in a separate file."
   ]
  },
  {
   "cell_type": "code",
   "execution_count": 19,
   "metadata": {
    "ExecuteTime": {
     "end_time": "2021-08-06T12:35:00.553791Z",
     "start_time": "2021-08-06T12:34:59.869408Z"
    },
    "hidden": true
   },
   "outputs": [],
   "source": [
    "mayo_data = pd.read_csv(data_path+'mayoclinic/mayo.csv').astype(str)\n",
    "mayo_map = pd.read_csv(data_path+'mayoclinic/mayo_kg_map.csv').astype(str)\n",
    "\n",
    "mayo_data = mayo_data.drop(['link'],axis=1)\n",
    "\n",
    "mayo_data = mayo_data.replace('None',float('nan')).replace('None.',float('nan')).fillna('')\n",
    "\n",
    "# process symptom\n",
    "symptoms, see_doc = [], []\n",
    "for x in mayo_data.get(['Symptoms']).values.reshape(-1): \n",
    "    if 'doctor' in x: \n",
    "        symptoms.append(x[:x[:x.find('doctor')].rfind('\\n')])\n",
    "        see_doc.append(x[x[:x.find('doctor')].rfind('\\n')+1:])\n",
    "    else: \n",
    "        symptoms.append(x)\n",
    "        see_doc.append('')\n",
    "        \n",
    "mayo_data.loc[:, 'Symptoms'] = symptoms\n",
    "mayo_data.loc[:, 'see_doc'] = see_doc\n",
    "\n",
    "def clean_text(x):\n",
    "    if not x: return ''\n",
    "    x = x.replace(':\\n',': ').replace('.\\n','. ').replace('\\n',', ')\n",
    "    x = re.sub('\\(.*?\\)', '', x) \n",
    "    x = x.replace('  ',' ')\n",
    "    x = x.replace(' , ',', ')\n",
    "    return x\n",
    "\n",
    "mayo_data = pd.concat([mayo_data.get(['name']),mayo_data.drop(['name'],axis=1).applymap(clean_text)],axis=1)\n",
    "\n",
    "mayo_data = pd.merge(mayo_data, mayo_map, 'inner', left_on='name', right_on='mayo_name')\n",
    "mayo_data = mayo_data.get(['node_id', 'Symptoms', 'Causes', 'Risk factors', 'Complications',\n",
    "       'Prevention', 'see_doc']).drop_duplicates()\n",
    "mayo_data = mayo_data.rename(columns={'Symptoms':'mayo_symptoms', 'Causes':'mayo_causes', 'see_doc':'mayo_see_doc',\n",
    "                                      'node_id':'mondo_id', 'Risk factors':'mayo_risk_factors', \n",
    "                                      'Complications':'mayo_complications', 'Prevention':'mayo_prevention',})\n",
    "\n",
    "disease_features = pd.merge(disease_features, mayo_data, 'left').fillna('')"
   ]
  },
  {
   "cell_type": "markdown",
   "metadata": {},
   "source": [
    "### Save and describe features"
   ]
  },
  {
   "cell_type": "code",
   "execution_count": 20,
   "metadata": {
    "ExecuteTime": {
     "end_time": "2021-08-06T12:35:03.495314Z",
     "start_time": "2021-08-06T12:35:00.555756Z"
    }
   },
   "outputs": [],
   "source": [
    "disease_features = disease_features.drop_duplicates()\n",
    "disease_features.to_csv(save_path+'disease_features.csv', index=False)"
   ]
  },
  {
   "cell_type": "code",
   "execution_count": 21,
   "metadata": {
    "ExecuteTime": {
     "end_time": "2021-08-06T12:35:03.568504Z",
     "start_time": "2021-08-06T12:35:03.499316Z"
    }
   },
   "outputs": [],
   "source": [
    "disease_features_full  = disease_features.copy()"
   ]
  },
  {
   "cell_type": "code",
   "execution_count": 22,
   "metadata": {
    "ExecuteTime": {
     "end_time": "2021-08-06T12:35:04.463072Z",
     "start_time": "2021-08-06T12:35:03.572142Z"
    }
   },
   "outputs": [
    {
     "name": "stdout",
     "output_type": "stream",
     "text": [
      "coverage of raw KG with 22205 total diseases\n",
      "proportion of diseases with features 0.82\n",
      "\n",
      "#values  #unique feature\n",
      "40068 \t 18152 \t any\n",
      "15238 \t 15238 \t mondo_definition\n",
      "28468 \t 8689 \t umls_description\n",
      "6564 \t 6548 \t orphanet_definition\n",
      "3989 \t 3989 \t orphanet_prevalence\n",
      "2350 \t 2348 \t orphanet_epidemiology\n",
      "2294 \t 2292 \t orphanet_clinical_description\n",
      "1732 \t 1731 \t orphanet_management_and_treatment\n",
      "6642 \t 5789 \t mayo_symptoms\n",
      "6629 \t 5776 \t mayo_causes\n",
      "6284 \t 5501 \t mayo_risk_factors\n",
      "5011 \t 4455 \t mayo_complications\n",
      "2529 \t 2273 \t mayo_prevention\n",
      "5862 \t 5234 \t mayo_see_doc\n"
     ]
    }
   ],
   "source": [
    "col_name = 'mondo_id'\n",
    "disease_features = disease_features_full.get([col_name, 'mondo_definition', 'umls_description',\n",
    "       'orphanet_definition', 'orphanet_prevalence', 'orphanet_epidemiology',\n",
    "       'orphanet_clinical_description', 'orphanet_management_and_treatment',\n",
    "       'mayo_symptoms', 'mayo_causes', 'mayo_risk_factors',\n",
    "       'mayo_complications', 'mayo_prevention', 'mayo_see_doc'])\n",
    "\n",
    "disease_features = disease_features.drop_duplicates().replace('',float('nan'))\n",
    "disease_features = disease_features.loc[np.invert(disease_features.loc[:, disease_features.columns != col_name].isnull().all(1).values), :]\n",
    "\n",
    "x = set(np.unique(diseases.get(col_name).values))\n",
    "print('coverage of raw KG with {} total diseases'.format(len(x)))\n",
    "y = set(np.unique(disease_features.get(col_name).values))\n",
    "print('proportion of diseases with features {:.2f}'.format(len(y)/len(x)))\n",
    "print()\n",
    "print('#values  #unique feature')\n",
    "print('{} \\t {} \\t {}'.format(disease_features.shape[0], len(y), 'any'))\n",
    "for c in ['mondo_definition', 'umls_description',\n",
    "       'orphanet_definition', 'orphanet_prevalence', 'orphanet_epidemiology',\n",
    "       'orphanet_clinical_description', 'orphanet_management_and_treatment',\n",
    "       'mayo_symptoms', 'mayo_causes', 'mayo_risk_factors',\n",
    "       'mayo_complications', 'mayo_prevention', 'mayo_see_doc']: \n",
    "    \n",
    "    df = disease_features.get([col_name, c]).dropna().drop_duplicates()\n",
    "    y = set(np.unique(df.get(col_name).values))\n",
    "    print('{} \\t {} \\t {}'.format(df.shape[0], len(y), c))"
   ]
  },
  {
   "cell_type": "code",
   "execution_count": 23,
   "metadata": {
    "ExecuteTime": {
     "end_time": "2021-08-06T12:35:05.053574Z",
     "start_time": "2021-08-06T12:35:04.468970Z"
    },
    "scrolled": true
   },
   "outputs": [
    {
     "name": "stdout",
     "output_type": "stream",
     "text": [
      "coverage of grouped KG with 17080 total diseases\n",
      "proportion of dieases with features 0.83\n",
      "\n",
      "#values  #unique feature\n",
      "39800 \t 14252 \t any\n",
      "15238 \t 12001 \t mondo_definition\n",
      "25374 \t 6964 \t umls_description\n",
      "6562 \t 5645 \t orphanet_definition\n",
      "3500 \t 3430 \t orphanet_prevalence\n",
      "2335 \t 2026 \t orphanet_epidemiology\n",
      "2293 \t 1972 \t orphanet_clinical_description\n",
      "1722 \t 1553 \t orphanet_management_and_treatment\n",
      "5140 \t 4470 \t mayo_symptoms\n",
      "5128 \t 4459 \t mayo_causes\n",
      "4898 \t 4299 \t mayo_risk_factors\n",
      "3792 \t 3396 \t mayo_complications\n",
      "1907 \t 1776 \t mayo_prevention\n",
      "4531 \t 4058 \t mayo_see_doc\n"
     ]
    }
   ],
   "source": [
    "col_name = 'node_index'\n",
    "\n",
    "disease_features = disease_features_full.get([col_name, 'mondo_definition', 'umls_description',\n",
    "       'orphanet_definition', 'orphanet_prevalence', 'orphanet_epidemiology',\n",
    "       'orphanet_clinical_description', 'orphanet_management_and_treatment',\n",
    "       'mayo_symptoms', 'mayo_causes', 'mayo_risk_factors',\n",
    "       'mayo_complications', 'mayo_prevention', 'mayo_see_doc'])\n",
    "\n",
    "disease_features = disease_features.drop_duplicates().replace('',float('nan'))\n",
    "disease_features = disease_features.loc[np.invert(disease_features.loc[:, disease_features.columns != col_name].isnull().all(1).values), :]\n",
    "\n",
    "x = set(np.unique(kg_diseases.get(col_name).values))\n",
    "print('coverage of grouped KG with {} total diseases'.format(len(x)))\n",
    "y = set(np.unique(disease_features.get('node_index').values))\n",
    "print('proportion of dieases with features {:.2f}'.format(len(y)/len(x)))\n",
    "print()\n",
    "\n",
    "print('#values  #unique feature')\n",
    "print('{} \\t {} \\t {}'.format(disease_features.shape[0], len(y), 'any'))\n",
    "for c in ['mondo_definition', 'umls_description',\n",
    "       'orphanet_definition', 'orphanet_prevalence', 'orphanet_epidemiology',\n",
    "       'orphanet_clinical_description', 'orphanet_management_and_treatment',\n",
    "       'mayo_symptoms', 'mayo_causes', 'mayo_risk_factors',\n",
    "       'mayo_complications', 'mayo_prevention', 'mayo_see_doc']: \n",
    "    \n",
    "    df = disease_features.get([col_name, c]).dropna().drop_duplicates()\n",
    "    y = set(np.unique(df.get(col_name).values))\n",
    "    print('{} \\t {} \\t {}'.format(df.shape[0], len(y), c))"
   ]
  },
  {
   "cell_type": "code",
   "execution_count": null,
   "metadata": {},
   "outputs": [],
   "source": []
  }
 ],
 "metadata": {
  "hide_input": false,
  "kernelspec": {
   "display_name": "Python 3",
   "language": "python",
   "name": "python3"
  },
  "language_info": {
   "codemirror_mode": {
    "name": "ipython",
    "version": 3
   },
   "file_extension": ".py",
   "mimetype": "text/x-python",
   "name": "python",
   "nbconvert_exporter": "python",
   "pygments_lexer": "ipython3",
   "version": "3.8.2"
  },
  "notify_time": "10",
  "toc": {
   "base_numbering": 1,
   "nav_menu": {},
   "number_sections": false,
   "sideBar": false,
   "skip_h1_title": false,
   "title_cell": "Table of Contents",
   "title_sidebar": "Contents",
   "toc_cell": false,
   "toc_position": {
    "height": "549.5652465820312px",
    "left": "151px",
    "top": "180px",
    "width": "161.64402770996094px"
   },
   "toc_section_display": false,
   "toc_window_display": false
  }
 },
 "nbformat": 4,
 "nbformat_minor": 4
}
